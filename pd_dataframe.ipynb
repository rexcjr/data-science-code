{
 "cells": [
  {
   "cell_type": "code",
   "execution_count": 1,
   "id": "62cd4313",
   "metadata": {},
   "outputs": [],
   "source": [
    "import pandas as pd"
   ]
  },
  {
   "cell_type": "markdown",
   "id": "bb39f15e",
   "metadata": {},
   "source": [
    "source : https://en.wikipedia.org/wiki/Quezon_City"
   ]
  },
  {
   "cell_type": "code",
   "execution_count": 2,
   "id": "ac935b4d",
   "metadata": {},
   "outputs": [
    {
     "data": {
      "text/html": [
       "<div>\n",
       "<style scoped>\n",
       "    .dataframe tbody tr th:only-of-type {\n",
       "        vertical-align: middle;\n",
       "    }\n",
       "\n",
       "    .dataframe tbody tr th {\n",
       "        vertical-align: top;\n",
       "    }\n",
       "\n",
       "    .dataframe thead th {\n",
       "        text-align: right;\n",
       "    }\n",
       "</style>\n",
       "<table border=\"1\" class=\"dataframe\">\n",
       "  <thead>\n",
       "    <tr style=\"text-align: right;\">\n",
       "      <th></th>\n",
       "      <th>location_name</th>\n",
       "      <th>population_in_thousands</th>\n",
       "      <th>available_transportations</th>\n",
       "      <th>description_of_location</th>\n",
       "      <th>primary_language</th>\n",
       "      <th>secondary_language</th>\n",
       "      <th>other_data_climate</th>\n",
       "    </tr>\n",
       "  </thead>\n",
       "  <tbody>\n",
       "    <tr>\n",
       "      <th>0</th>\n",
       "      <td>Quezon City</td>\n",
       "      <td>2960</td>\n",
       "      <td>jeepneys, city buses, taxis, UV Express, e-trikes</td>\n",
       "      <td>Quezon City is known for its culture, entertai...</td>\n",
       "      <td>Filipino</td>\n",
       "      <td>English</td>\n",
       "      <td>According to the Köppen climate classification...</td>\n",
       "    </tr>\n",
       "  </tbody>\n",
       "</table>\n",
       "</div>"
      ],
      "text/plain": [
       "  location_name  population_in_thousands  \\\n",
       "0   Quezon City                     2960   \n",
       "\n",
       "                           available_transportations  \\\n",
       "0  jeepneys, city buses, taxis, UV Express, e-trikes   \n",
       "\n",
       "                             description_of_location primary_language  \\\n",
       "0  Quezon City is known for its culture, entertai...         Filipino   \n",
       "\n",
       "  secondary_language                                 other_data_climate  \n",
       "0            English  According to the Köppen climate classification...  "
      ]
     },
     "execution_count": 2,
     "metadata": {},
     "output_type": "execute_result"
    }
   ],
   "source": [
    "df = pd.DataFrame({'location_name' : ['Quezon City'], \n",
    "                  'population_in_thousands' : [int(2960048 / 1000)], \n",
    "                  'available_transportations' : ['jeepneys, city buses, taxis, UV Express, e-trikes'],\n",
    "                  'description_of_location' : ['Quezon City is known for its culture, entertainment industry and media, and is aptly called the \"City of Stars\". Major broadcasting networks have their headquarters and studios in the city. It is also known for its commerce, education, research, technology, politics, tourism, art and sports. Several national government branches including the Batasang Pambansa Complex, the seat of House of Representatives of the Philippines, calls the city home.'],\n",
    "                  'primary_language' : ['Filipino'],\n",
    "                  'secondary_language' : ['English'],\n",
    "                  'other_data_climate' : ['''According to the Köppen climate classification, Quezon City has a tropical monsoon climate (Am). The city has a dry season from December to April, in which in turn, divided into cool and warm dry seasons, and a prolonged wet season from May to November that brings heavy rains in some areas. The primary weather station of the city is located at the PAGASA Science Garden. It has been observed that extreme temperatures ranged from a record high of 38.5 °C (101.3 °F) to a record low of 14.9 °C (58.8 °F). The hot season was observed for 1.5 months, from April to May, with an average daily high temperature of 32.8 °C (91.0 °F). Meanwhile, the cool season lasts for 2.6 months, from November to February, with an average temperature of below 30.5 °C (86.9 °F).''']\n",
    "                 })\n",
    "df"
   ]
  },
  {
   "cell_type": "code",
   "execution_count": 3,
   "id": "5be5c461",
   "metadata": {},
   "outputs": [],
   "source": [
    "df.to_csv('Tourist_site2.csv', index = False) "
   ]
  }
 ],
 "metadata": {
  "kernelspec": {
   "display_name": "Python 3 (ipykernel)",
   "language": "python",
   "name": "python3"
  },
  "language_info": {
   "codemirror_mode": {
    "name": "ipython",
    "version": 3
   },
   "file_extension": ".py",
   "mimetype": "text/x-python",
   "name": "python",
   "nbconvert_exporter": "python",
   "pygments_lexer": "ipython3",
   "version": "3.8.12"
  }
 },
 "nbformat": 4,
 "nbformat_minor": 5
}
