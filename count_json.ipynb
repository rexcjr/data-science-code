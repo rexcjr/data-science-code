{
 "cells": [
  {
   "cell_type": "code",
   "execution_count": null,
   "id": "dfcb17d5",
   "metadata": {},
   "outputs": [
    {
     "name": "stdout",
     "output_type": "stream",
     "text": [
      "Enter location: http://py4e-data.dr-chuck.net/comments_1433542.json\n",
      "Retrieving http://py4e-data.dr-chuck.net/comments_1433542.json\n",
      "Retrieved 2719 characters\n",
      "Count: 50\n",
      "Sum 2615\n"
     ]
    }
   ],
   "source": [
    "import urllib.request, urllib.parse, urllib.error\n",
    "import json\n",
    "import ssl\n",
    "\n",
    "# Ignore SSL certificate errors\n",
    "ctx = ssl.create_default_context()\n",
    "ctx.check_hostname = False\n",
    "ctx.verify_mode = ssl.CERT_NONE\n",
    "\n",
    "while True:\n",
    "    url = input('Enter location: ')\n",
    "    if len(url) < 1 : break\n",
    "    print('Retrieving', url)\n",
    "    \n",
    "    uh = urllib.request.urlopen(url, context=ctx)\n",
    "    data = uh.read().decode()\n",
    "    print('Retrieved', len(data), 'characters')\n",
    "    \n",
    "    js = json.loads(data)\n",
    "    \n",
    "        \n",
    "    total = 0\n",
    "    count = 0\n",
    "    for i in js['comments'] :\n",
    "        num = int(i['count'])\n",
    "        total = total + num\n",
    "        \n",
    "    print('Count:', len(js['comments']))\n",
    "    print('Sum', total)     \n"
   ]
  },
  {
   "cell_type": "code",
   "execution_count": null,
   "id": "9c579744",
   "metadata": {},
   "outputs": [],
   "source": []
  }
 ],
 "metadata": {
  "kernelspec": {
   "display_name": "Python 3 (ipykernel)",
   "language": "python",
   "name": "python3"
  },
  "language_info": {
   "codemirror_mode": {
    "name": "ipython",
    "version": 3
   },
   "file_extension": ".py",
   "mimetype": "text/x-python",
   "name": "python",
   "nbconvert_exporter": "python",
   "pygments_lexer": "ipython3",
   "version": "3.8.12"
  }
 },
 "nbformat": 4,
 "nbformat_minor": 5
}
