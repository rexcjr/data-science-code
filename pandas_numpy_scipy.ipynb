{
 "cells": [
  {
   "cell_type": "code",
   "execution_count": 25,
   "id": "3ee0ff2c",
   "metadata": {},
   "outputs": [],
   "source": [
    "import numpy as np\n",
    "import pandas as pd\n",
    "from scipy import stats"
   ]
  },
  {
   "cell_type": "code",
   "execution_count": 6,
   "id": "08c3254e",
   "metadata": {},
   "outputs": [
    {
     "data": {
      "text/html": [
       "<div>\n",
       "<style scoped>\n",
       "    .dataframe tbody tr th:only-of-type {\n",
       "        vertical-align: middle;\n",
       "    }\n",
       "\n",
       "    .dataframe tbody tr th {\n",
       "        vertical-align: top;\n",
       "    }\n",
       "\n",
       "    .dataframe thead th {\n",
       "        text-align: right;\n",
       "    }\n",
       "</style>\n",
       "<table border=\"1\" class=\"dataframe\">\n",
       "  <thead>\n",
       "    <tr style=\"text-align: right;\">\n",
       "      <th></th>\n",
       "      <th>student_id</th>\n",
       "      <th>assignment1_grade</th>\n",
       "      <th>assignment1_submission</th>\n",
       "      <th>assignment2_grade</th>\n",
       "      <th>assignment2_submission</th>\n",
       "      <th>assignment3_grade</th>\n",
       "      <th>assignment3_submission</th>\n",
       "      <th>assignment4_grade</th>\n",
       "      <th>assignment4_submission</th>\n",
       "      <th>assignment5_grade</th>\n",
       "      <th>assignment5_submission</th>\n",
       "      <th>assignment6_grade</th>\n",
       "      <th>assignment6_submission</th>\n",
       "    </tr>\n",
       "  </thead>\n",
       "  <tbody>\n",
       "    <tr>\n",
       "      <th>0</th>\n",
       "      <td>B73F2C11-70F0-E37D-8B10-1D20AFED50B1</td>\n",
       "      <td>92.733946</td>\n",
       "      <td>2015-11-02 06:55:34.282000000</td>\n",
       "      <td>83.030552</td>\n",
       "      <td>2015-11-09 02:22:58.938000000</td>\n",
       "      <td>67.164441</td>\n",
       "      <td>2015-11-12 08:58:33.998000000</td>\n",
       "      <td>53.011553</td>\n",
       "      <td>2015-11-16 01:21:24.663000000</td>\n",
       "      <td>47.710398</td>\n",
       "      <td>2015-11-20 13:24:59.692000000</td>\n",
       "      <td>38.168318</td>\n",
       "      <td>2015-11-22 18:31:15.934000000</td>\n",
       "    </tr>\n",
       "    <tr>\n",
       "      <th>1</th>\n",
       "      <td>98A0FAE0-A19A-13D2-4BB5-CFBFD94031D1</td>\n",
       "      <td>86.790821</td>\n",
       "      <td>2015-11-29 14:57:44.429000000</td>\n",
       "      <td>86.290821</td>\n",
       "      <td>2015-12-06 17:41:18.449000000</td>\n",
       "      <td>69.772657</td>\n",
       "      <td>2015-12-10 08:54:55.904000000</td>\n",
       "      <td>55.098125</td>\n",
       "      <td>2015-12-13 17:32:30.941000000</td>\n",
       "      <td>49.588313</td>\n",
       "      <td>2015-12-19 23:26:39.285000000</td>\n",
       "      <td>44.629482</td>\n",
       "      <td>2015-12-21 17:07:24.275000000</td>\n",
       "    </tr>\n",
       "    <tr>\n",
       "      <th>2</th>\n",
       "      <td>D0F62040-CEB0-904C-F563-2F8620916C4E</td>\n",
       "      <td>85.512541</td>\n",
       "      <td>2016-01-09 05:36:02.389000000</td>\n",
       "      <td>85.512541</td>\n",
       "      <td>2016-01-09 06:39:44.416000000</td>\n",
       "      <td>68.410033</td>\n",
       "      <td>2016-01-15 20:22:45.882000000</td>\n",
       "      <td>54.728026</td>\n",
       "      <td>2016-01-11 12:41:50.749000000</td>\n",
       "      <td>49.255224</td>\n",
       "      <td>2016-01-11 17:31:12.489000000</td>\n",
       "      <td>44.329701</td>\n",
       "      <td>2016-01-17 16:24:42.765000000</td>\n",
       "    </tr>\n",
       "    <tr>\n",
       "      <th>3</th>\n",
       "      <td>FFDF2B2C-F514-EF7F-6538-A6A53518E9DC</td>\n",
       "      <td>86.030665</td>\n",
       "      <td>2016-04-30 06:50:39.801000000</td>\n",
       "      <td>68.824532</td>\n",
       "      <td>2016-04-30 17:20:38.727000000</td>\n",
       "      <td>61.942079</td>\n",
       "      <td>2016-05-12 07:47:16.326000000</td>\n",
       "      <td>49.553663</td>\n",
       "      <td>2016-05-07 16:09:20.485000000</td>\n",
       "      <td>49.553663</td>\n",
       "      <td>2016-05-24 12:51:18.016000000</td>\n",
       "      <td>44.598297</td>\n",
       "      <td>2016-05-26 08:09:12.058000000</td>\n",
       "    </tr>\n",
       "    <tr>\n",
       "      <th>4</th>\n",
       "      <td>5ECBEEB6-F1CE-80AE-3164-E45E99473FB4</td>\n",
       "      <td>64.813800</td>\n",
       "      <td>2015-12-13 17:06:10.750000000</td>\n",
       "      <td>51.491040</td>\n",
       "      <td>2015-12-14 12:25:12.056000000</td>\n",
       "      <td>41.932832</td>\n",
       "      <td>2015-12-29 14:25:22.594000000</td>\n",
       "      <td>36.929549</td>\n",
       "      <td>2015-12-28 01:29:55.901000000</td>\n",
       "      <td>33.236594</td>\n",
       "      <td>2015-12-29 14:46:06.628000000</td>\n",
       "      <td>33.236594</td>\n",
       "      <td>2016-01-05 01:06:59.546000000</td>\n",
       "    </tr>\n",
       "  </tbody>\n",
       "</table>\n",
       "</div>"
      ],
      "text/plain": [
       "                             student_id  assignment1_grade  \\\n",
       "0  B73F2C11-70F0-E37D-8B10-1D20AFED50B1          92.733946   \n",
       "1  98A0FAE0-A19A-13D2-4BB5-CFBFD94031D1          86.790821   \n",
       "2  D0F62040-CEB0-904C-F563-2F8620916C4E          85.512541   \n",
       "3  FFDF2B2C-F514-EF7F-6538-A6A53518E9DC          86.030665   \n",
       "4  5ECBEEB6-F1CE-80AE-3164-E45E99473FB4          64.813800   \n",
       "\n",
       "          assignment1_submission  assignment2_grade  \\\n",
       "0  2015-11-02 06:55:34.282000000          83.030552   \n",
       "1  2015-11-29 14:57:44.429000000          86.290821   \n",
       "2  2016-01-09 05:36:02.389000000          85.512541   \n",
       "3  2016-04-30 06:50:39.801000000          68.824532   \n",
       "4  2015-12-13 17:06:10.750000000          51.491040   \n",
       "\n",
       "          assignment2_submission  assignment3_grade  \\\n",
       "0  2015-11-09 02:22:58.938000000          67.164441   \n",
       "1  2015-12-06 17:41:18.449000000          69.772657   \n",
       "2  2016-01-09 06:39:44.416000000          68.410033   \n",
       "3  2016-04-30 17:20:38.727000000          61.942079   \n",
       "4  2015-12-14 12:25:12.056000000          41.932832   \n",
       "\n",
       "          assignment3_submission  assignment4_grade  \\\n",
       "0  2015-11-12 08:58:33.998000000          53.011553   \n",
       "1  2015-12-10 08:54:55.904000000          55.098125   \n",
       "2  2016-01-15 20:22:45.882000000          54.728026   \n",
       "3  2016-05-12 07:47:16.326000000          49.553663   \n",
       "4  2015-12-29 14:25:22.594000000          36.929549   \n",
       "\n",
       "          assignment4_submission  assignment5_grade  \\\n",
       "0  2015-11-16 01:21:24.663000000          47.710398   \n",
       "1  2015-12-13 17:32:30.941000000          49.588313   \n",
       "2  2016-01-11 12:41:50.749000000          49.255224   \n",
       "3  2016-05-07 16:09:20.485000000          49.553663   \n",
       "4  2015-12-28 01:29:55.901000000          33.236594   \n",
       "\n",
       "          assignment5_submission  assignment6_grade  \\\n",
       "0  2015-11-20 13:24:59.692000000          38.168318   \n",
       "1  2015-12-19 23:26:39.285000000          44.629482   \n",
       "2  2016-01-11 17:31:12.489000000          44.329701   \n",
       "3  2016-05-24 12:51:18.016000000          44.598297   \n",
       "4  2015-12-29 14:46:06.628000000          33.236594   \n",
       "\n",
       "          assignment6_submission  \n",
       "0  2015-11-22 18:31:15.934000000  \n",
       "1  2015-12-21 17:07:24.275000000  \n",
       "2  2016-01-17 16:24:42.765000000  \n",
       "3  2016-05-26 08:09:12.058000000  \n",
       "4  2016-01-05 01:06:59.546000000  "
      ]
     },
     "execution_count": 6,
     "metadata": {},
     "output_type": "execute_result"
    }
   ],
   "source": [
    "df = pd.read_csv('grades.csv')\n",
    "\n",
    "df.head()"
   ]
  },
  {
   "cell_type": "code",
   "execution_count": 7,
   "id": "721125fb",
   "metadata": {},
   "outputs": [
    {
     "name": "stdout",
     "output_type": "stream",
     "text": [
      "<class 'pandas.core.frame.DataFrame'>\n",
      "RangeIndex: 2315 entries, 0 to 2314\n",
      "Data columns (total 13 columns):\n",
      " #   Column                  Non-Null Count  Dtype  \n",
      "---  ------                  --------------  -----  \n",
      " 0   student_id              2315 non-null   object \n",
      " 1   assignment1_grade       2315 non-null   float64\n",
      " 2   assignment1_submission  2315 non-null   object \n",
      " 3   assignment2_grade       2315 non-null   float64\n",
      " 4   assignment2_submission  2315 non-null   object \n",
      " 5   assignment3_grade       2315 non-null   float64\n",
      " 6   assignment3_submission  2315 non-null   object \n",
      " 7   assignment4_grade       2315 non-null   float64\n",
      " 8   assignment4_submission  2315 non-null   object \n",
      " 9   assignment5_grade       2315 non-null   float64\n",
      " 10  assignment5_submission  2315 non-null   object \n",
      " 11  assignment6_grade       2315 non-null   float64\n",
      " 12  assignment6_submission  2315 non-null   object \n",
      "dtypes: float64(6), object(7)\n",
      "memory usage: 235.2+ KB\n"
     ]
    }
   ],
   "source": [
    "df.info()"
   ]
  },
  {
   "cell_type": "code",
   "execution_count": 8,
   "id": "eab19d65",
   "metadata": {},
   "outputs": [
    {
     "data": {
      "text/plain": [
       "Index(['student_id', 'assignment1_grade', 'assignment1_submission',\n",
       "       'assignment2_grade', 'assignment2_submission', 'assignment3_grade',\n",
       "       'assignment3_submission', 'assignment4_grade', 'assignment4_submission',\n",
       "       'assignment5_grade', 'assignment5_submission', 'assignment6_grade',\n",
       "       'assignment6_submission'],\n",
       "      dtype='object')"
      ]
     },
     "execution_count": 8,
     "metadata": {},
     "output_type": "execute_result"
    }
   ],
   "source": [
    "df.columns"
   ]
  },
  {
   "cell_type": "code",
   "execution_count": 10,
   "id": "8f37a1f8",
   "metadata": {},
   "outputs": [
    {
     "name": "stdout",
     "output_type": "stream",
     "text": [
      "There are 2315 rows and 13 columns\n"
     ]
    }
   ],
   "source": [
    "print(\"There are {} rows and {} columns\".format(df.shape[0], df.shape[1]))"
   ]
  },
  {
   "cell_type": "code",
   "execution_count": 14,
   "id": "bbc6e966",
   "metadata": {},
   "outputs": [
    {
     "name": "stdout",
     "output_type": "stream",
     "text": [
      "<class 'pandas.core.frame.DataFrame'>\n",
      "Int64Index: 1259 entries, 0 to 2314\n",
      "Data columns (total 13 columns):\n",
      " #   Column                  Non-Null Count  Dtype  \n",
      "---  ------                  --------------  -----  \n",
      " 0   student_id              1259 non-null   object \n",
      " 1   assignment1_grade       1259 non-null   float64\n",
      " 2   assignment1_submission  1259 non-null   object \n",
      " 3   assignment2_grade       1259 non-null   float64\n",
      " 4   assignment2_submission  1259 non-null   object \n",
      " 5   assignment3_grade       1259 non-null   float64\n",
      " 6   assignment3_submission  1259 non-null   object \n",
      " 7   assignment4_grade       1259 non-null   float64\n",
      " 8   assignment4_submission  1259 non-null   object \n",
      " 9   assignment5_grade       1259 non-null   float64\n",
      " 10  assignment5_submission  1259 non-null   object \n",
      " 11  assignment6_grade       1259 non-null   float64\n",
      " 12  assignment6_submission  1259 non-null   object \n",
      "dtypes: float64(6), object(7)\n",
      "memory usage: 137.7+ KB\n"
     ]
    }
   ],
   "source": [
    "early_finishers = df[pd.to_datetime(df['assignment1_submission']) < '2016']\n",
    "early_finishers.info()"
   ]
  },
  {
   "cell_type": "code",
   "execution_count": 16,
   "id": "65396c8c",
   "metadata": {},
   "outputs": [
    {
     "data": {
      "text/html": [
       "<div>\n",
       "<style scoped>\n",
       "    .dataframe tbody tr th:only-of-type {\n",
       "        vertical-align: middle;\n",
       "    }\n",
       "\n",
       "    .dataframe tbody tr th {\n",
       "        vertical-align: top;\n",
       "    }\n",
       "\n",
       "    .dataframe thead th {\n",
       "        text-align: right;\n",
       "    }\n",
       "</style>\n",
       "<table border=\"1\" class=\"dataframe\">\n",
       "  <thead>\n",
       "    <tr style=\"text-align: right;\">\n",
       "      <th></th>\n",
       "      <th>student_id</th>\n",
       "      <th>assignment1_grade</th>\n",
       "      <th>assignment1_submission</th>\n",
       "      <th>assignment2_grade</th>\n",
       "      <th>assignment2_submission</th>\n",
       "      <th>assignment3_grade</th>\n",
       "      <th>assignment3_submission</th>\n",
       "      <th>assignment4_grade</th>\n",
       "      <th>assignment4_submission</th>\n",
       "      <th>assignment5_grade</th>\n",
       "      <th>assignment5_submission</th>\n",
       "      <th>assignment6_grade</th>\n",
       "      <th>assignment6_submission</th>\n",
       "    </tr>\n",
       "  </thead>\n",
       "  <tbody>\n",
       "    <tr>\n",
       "      <th>2</th>\n",
       "      <td>D0F62040-CEB0-904C-F563-2F8620916C4E</td>\n",
       "      <td>85.512541</td>\n",
       "      <td>2016-01-09 05:36:02.389000000</td>\n",
       "      <td>85.512541</td>\n",
       "      <td>2016-01-09 06:39:44.416000000</td>\n",
       "      <td>68.410033</td>\n",
       "      <td>2016-01-15 20:22:45.882000000</td>\n",
       "      <td>54.728026</td>\n",
       "      <td>2016-01-11 12:41:50.749000000</td>\n",
       "      <td>49.255224</td>\n",
       "      <td>2016-01-11 17:31:12.489000000</td>\n",
       "      <td>44.329701</td>\n",
       "      <td>2016-01-17 16:24:42.765000000</td>\n",
       "    </tr>\n",
       "    <tr>\n",
       "      <th>3</th>\n",
       "      <td>FFDF2B2C-F514-EF7F-6538-A6A53518E9DC</td>\n",
       "      <td>86.030665</td>\n",
       "      <td>2016-04-30 06:50:39.801000000</td>\n",
       "      <td>68.824532</td>\n",
       "      <td>2016-04-30 17:20:38.727000000</td>\n",
       "      <td>61.942079</td>\n",
       "      <td>2016-05-12 07:47:16.326000000</td>\n",
       "      <td>49.553663</td>\n",
       "      <td>2016-05-07 16:09:20.485000000</td>\n",
       "      <td>49.553663</td>\n",
       "      <td>2016-05-24 12:51:18.016000000</td>\n",
       "      <td>44.598297</td>\n",
       "      <td>2016-05-26 08:09:12.058000000</td>\n",
       "    </tr>\n",
       "    <tr>\n",
       "      <th>6</th>\n",
       "      <td>3217BE3F-E4B0-C3B6-9F64-462456819CE4</td>\n",
       "      <td>87.498744</td>\n",
       "      <td>2016-03-05 11:05:25.408000000</td>\n",
       "      <td>69.998995</td>\n",
       "      <td>2016-03-09 07:29:52.405000000</td>\n",
       "      <td>55.999196</td>\n",
       "      <td>2016-03-16 22:31:24.316000000</td>\n",
       "      <td>50.399276</td>\n",
       "      <td>2016-03-18 07:19:26.032000000</td>\n",
       "      <td>45.359349</td>\n",
       "      <td>2016-03-19 10:35:41.869000000</td>\n",
       "      <td>45.359349</td>\n",
       "      <td>2016-03-23 14:02:00.987000000</td>\n",
       "    </tr>\n",
       "    <tr>\n",
       "      <th>7</th>\n",
       "      <td>F1CB5AA1-B3DE-5460-FAFF-BE951FD38B5F</td>\n",
       "      <td>80.576090</td>\n",
       "      <td>2016-01-24 18:24:25.619000000</td>\n",
       "      <td>72.518481</td>\n",
       "      <td>2016-01-27 13:37:12.943000000</td>\n",
       "      <td>65.266633</td>\n",
       "      <td>2016-01-30 14:34:36.581000000</td>\n",
       "      <td>65.266633</td>\n",
       "      <td>2016-02-03 22:08:49.002000000</td>\n",
       "      <td>65.266633</td>\n",
       "      <td>2016-02-16 14:22:23.664000000</td>\n",
       "      <td>65.266633</td>\n",
       "      <td>2016-02-18 08:35:04.796000000</td>\n",
       "    </tr>\n",
       "    <tr>\n",
       "      <th>9</th>\n",
       "      <td>E2C617C2-4654-622C-AB50-1550C4BE42A0</td>\n",
       "      <td>59.270882</td>\n",
       "      <td>2016-03-06 12:06:26.185000000</td>\n",
       "      <td>59.270882</td>\n",
       "      <td>2016-03-13 02:07:25.289000000</td>\n",
       "      <td>53.343794</td>\n",
       "      <td>2016-03-17 07:30:09.241000000</td>\n",
       "      <td>53.343794</td>\n",
       "      <td>2016-03-20 21:45:56.229000000</td>\n",
       "      <td>42.675035</td>\n",
       "      <td>2016-03-27 15:55:04.414000000</td>\n",
       "      <td>38.407532</td>\n",
       "      <td>2016-03-30 20:33:13.554000000</td>\n",
       "    </tr>\n",
       "  </tbody>\n",
       "</table>\n",
       "</div>"
      ],
      "text/plain": [
       "                             student_id  assignment1_grade  \\\n",
       "2  D0F62040-CEB0-904C-F563-2F8620916C4E          85.512541   \n",
       "3  FFDF2B2C-F514-EF7F-6538-A6A53518E9DC          86.030665   \n",
       "6  3217BE3F-E4B0-C3B6-9F64-462456819CE4          87.498744   \n",
       "7  F1CB5AA1-B3DE-5460-FAFF-BE951FD38B5F          80.576090   \n",
       "9  E2C617C2-4654-622C-AB50-1550C4BE42A0          59.270882   \n",
       "\n",
       "          assignment1_submission  assignment2_grade  \\\n",
       "2  2016-01-09 05:36:02.389000000          85.512541   \n",
       "3  2016-04-30 06:50:39.801000000          68.824532   \n",
       "6  2016-03-05 11:05:25.408000000          69.998995   \n",
       "7  2016-01-24 18:24:25.619000000          72.518481   \n",
       "9  2016-03-06 12:06:26.185000000          59.270882   \n",
       "\n",
       "          assignment2_submission  assignment3_grade  \\\n",
       "2  2016-01-09 06:39:44.416000000          68.410033   \n",
       "3  2016-04-30 17:20:38.727000000          61.942079   \n",
       "6  2016-03-09 07:29:52.405000000          55.999196   \n",
       "7  2016-01-27 13:37:12.943000000          65.266633   \n",
       "9  2016-03-13 02:07:25.289000000          53.343794   \n",
       "\n",
       "          assignment3_submission  assignment4_grade  \\\n",
       "2  2016-01-15 20:22:45.882000000          54.728026   \n",
       "3  2016-05-12 07:47:16.326000000          49.553663   \n",
       "6  2016-03-16 22:31:24.316000000          50.399276   \n",
       "7  2016-01-30 14:34:36.581000000          65.266633   \n",
       "9  2016-03-17 07:30:09.241000000          53.343794   \n",
       "\n",
       "          assignment4_submission  assignment5_grade  \\\n",
       "2  2016-01-11 12:41:50.749000000          49.255224   \n",
       "3  2016-05-07 16:09:20.485000000          49.553663   \n",
       "6  2016-03-18 07:19:26.032000000          45.359349   \n",
       "7  2016-02-03 22:08:49.002000000          65.266633   \n",
       "9  2016-03-20 21:45:56.229000000          42.675035   \n",
       "\n",
       "          assignment5_submission  assignment6_grade  \\\n",
       "2  2016-01-11 17:31:12.489000000          44.329701   \n",
       "3  2016-05-24 12:51:18.016000000          44.598297   \n",
       "6  2016-03-19 10:35:41.869000000          45.359349   \n",
       "7  2016-02-16 14:22:23.664000000          65.266633   \n",
       "9  2016-03-27 15:55:04.414000000          38.407532   \n",
       "\n",
       "          assignment6_submission  \n",
       "2  2016-01-17 16:24:42.765000000  \n",
       "3  2016-05-26 08:09:12.058000000  \n",
       "6  2016-03-23 14:02:00.987000000  \n",
       "7  2016-02-18 08:35:04.796000000  \n",
       "9  2016-03-30 20:33:13.554000000  "
      ]
     },
     "execution_count": 16,
     "metadata": {},
     "output_type": "execute_result"
    }
   ],
   "source": [
    "late_finishers = df[~df.index.isin(early_finishers.index)]\n",
    "late_finishers.head()"
   ]
  },
  {
   "cell_type": "code",
   "execution_count": 19,
   "id": "f737282f",
   "metadata": {},
   "outputs": [
    {
     "name": "stdout",
     "output_type": "stream",
     "text": [
      "74.94728457024303\n",
      "74.0450648477065\n"
     ]
    }
   ],
   "source": [
    "print(early_finishers['assignment1_grade'].mean())\n",
    "print(late_finishers['assignment1_grade'].mean())"
   ]
  },
  {
   "cell_type": "code",
   "execution_count": 26,
   "id": "6c593249",
   "metadata": {},
   "outputs": [
    {
     "data": {
      "text/plain": [
       "Ttest_indResult(statistic=1.3223540853721596, pvalue=0.18618101101713855)"
      ]
     },
     "execution_count": 26,
     "metadata": {},
     "output_type": "execute_result"
    }
   ],
   "source": [
    "from scipy.stats import ttest_ind\n",
    "ttest_ind(early_finishers['assignment1_grade'], late_finishers['assignment1_grade'])"
   ]
  },
  {
   "cell_type": "code",
   "execution_count": 27,
   "id": "bd5c44ce",
   "metadata": {},
   "outputs": [
    {
     "name": "stdout",
     "output_type": "stream",
     "text": [
      "Ttest_indResult(statistic=1.3223540853721596, pvalue=0.18618101101713855)\n",
      "Ttest_indResult(statistic=1.2514717608216366, pvalue=0.2108889627004424)\n",
      "Ttest_indResult(statistic=1.6133726558705392, pvalue=0.10679998102227865)\n",
      "Ttest_indResult(statistic=0.049671157386456125, pvalue=0.960388729789337)\n",
      "Ttest_indResult(statistic=-0.05279315545404755, pvalue=0.9579012739746492)\n",
      "Ttest_indResult(statistic=-0.11609743352612056, pvalue=0.9075854011989656)\n"
     ]
    }
   ],
   "source": [
    "print(ttest_ind(early_finishers['assignment1_grade'], late_finishers['assignment1_grade']))\n",
    "print(ttest_ind(early_finishers['assignment2_grade'], late_finishers['assignment2_grade']))\n",
    "print(ttest_ind(early_finishers['assignment3_grade'], late_finishers['assignment3_grade']))\n",
    "print(ttest_ind(early_finishers['assignment4_grade'], late_finishers['assignment4_grade']))\n",
    "print(ttest_ind(early_finishers['assignment5_grade'], late_finishers['assignment5_grade']))\n",
    "print(ttest_ind(early_finishers['assignment6_grade'], late_finishers['assignment6_grade']))"
   ]
  },
  {
   "cell_type": "code",
   "execution_count": 29,
   "id": "bb906ad3",
   "metadata": {},
   "outputs": [
    {
     "data": {
      "text/html": [
       "<div>\n",
       "<style scoped>\n",
       "    .dataframe tbody tr th:only-of-type {\n",
       "        vertical-align: middle;\n",
       "    }\n",
       "\n",
       "    .dataframe tbody tr th {\n",
       "        vertical-align: top;\n",
       "    }\n",
       "\n",
       "    .dataframe thead th {\n",
       "        text-align: right;\n",
       "    }\n",
       "</style>\n",
       "<table border=\"1\" class=\"dataframe\">\n",
       "  <thead>\n",
       "    <tr style=\"text-align: right;\">\n",
       "      <th></th>\n",
       "      <th>0</th>\n",
       "      <th>1</th>\n",
       "      <th>2</th>\n",
       "      <th>3</th>\n",
       "      <th>4</th>\n",
       "      <th>5</th>\n",
       "      <th>6</th>\n",
       "      <th>7</th>\n",
       "      <th>8</th>\n",
       "      <th>9</th>\n",
       "      <th>...</th>\n",
       "      <th>90</th>\n",
       "      <th>91</th>\n",
       "      <th>92</th>\n",
       "      <th>93</th>\n",
       "      <th>94</th>\n",
       "      <th>95</th>\n",
       "      <th>96</th>\n",
       "      <th>97</th>\n",
       "      <th>98</th>\n",
       "      <th>99</th>\n",
       "    </tr>\n",
       "  </thead>\n",
       "  <tbody>\n",
       "    <tr>\n",
       "      <th>0</th>\n",
       "      <td>0.437501</td>\n",
       "      <td>0.549607</td>\n",
       "      <td>0.966316</td>\n",
       "      <td>0.431860</td>\n",
       "      <td>0.813011</td>\n",
       "      <td>0.757416</td>\n",
       "      <td>0.398004</td>\n",
       "      <td>0.916542</td>\n",
       "      <td>0.857820</td>\n",
       "      <td>0.304251</td>\n",
       "      <td>...</td>\n",
       "      <td>0.077118</td>\n",
       "      <td>0.069144</td>\n",
       "      <td>0.802100</td>\n",
       "      <td>0.271098</td>\n",
       "      <td>0.691566</td>\n",
       "      <td>0.320070</td>\n",
       "      <td>0.508350</td>\n",
       "      <td>0.449817</td>\n",
       "      <td>0.138791</td>\n",
       "      <td>0.007714</td>\n",
       "    </tr>\n",
       "    <tr>\n",
       "      <th>1</th>\n",
       "      <td>0.723507</td>\n",
       "      <td>0.807902</td>\n",
       "      <td>0.575180</td>\n",
       "      <td>0.432969</td>\n",
       "      <td>0.069530</td>\n",
       "      <td>0.309901</td>\n",
       "      <td>0.600393</td>\n",
       "      <td>0.358048</td>\n",
       "      <td>0.665267</td>\n",
       "      <td>0.483261</td>\n",
       "      <td>...</td>\n",
       "      <td>0.537863</td>\n",
       "      <td>0.818536</td>\n",
       "      <td>0.089415</td>\n",
       "      <td>0.833943</td>\n",
       "      <td>0.894389</td>\n",
       "      <td>0.459176</td>\n",
       "      <td>0.213191</td>\n",
       "      <td>0.045725</td>\n",
       "      <td>0.226361</td>\n",
       "      <td>0.485429</td>\n",
       "    </tr>\n",
       "    <tr>\n",
       "      <th>2</th>\n",
       "      <td>0.202324</td>\n",
       "      <td>0.262006</td>\n",
       "      <td>0.351036</td>\n",
       "      <td>0.341338</td>\n",
       "      <td>0.530930</td>\n",
       "      <td>0.348080</td>\n",
       "      <td>0.917943</td>\n",
       "      <td>0.531577</td>\n",
       "      <td>0.212316</td>\n",
       "      <td>0.401930</td>\n",
       "      <td>...</td>\n",
       "      <td>0.199110</td>\n",
       "      <td>0.755706</td>\n",
       "      <td>0.677789</td>\n",
       "      <td>0.991196</td>\n",
       "      <td>0.242301</td>\n",
       "      <td>0.143432</td>\n",
       "      <td>0.610457</td>\n",
       "      <td>0.723545</td>\n",
       "      <td>0.083407</td>\n",
       "      <td>0.997692</td>\n",
       "    </tr>\n",
       "    <tr>\n",
       "      <th>3</th>\n",
       "      <td>0.241840</td>\n",
       "      <td>0.358536</td>\n",
       "      <td>0.163215</td>\n",
       "      <td>0.221451</td>\n",
       "      <td>0.834614</td>\n",
       "      <td>0.642723</td>\n",
       "      <td>0.389129</td>\n",
       "      <td>0.767653</td>\n",
       "      <td>0.146999</td>\n",
       "      <td>0.755906</td>\n",
       "      <td>...</td>\n",
       "      <td>0.776681</td>\n",
       "      <td>0.494188</td>\n",
       "      <td>0.706627</td>\n",
       "      <td>0.646882</td>\n",
       "      <td>0.402310</td>\n",
       "      <td>0.841243</td>\n",
       "      <td>0.735526</td>\n",
       "      <td>0.524680</td>\n",
       "      <td>0.693281</td>\n",
       "      <td>0.173812</td>\n",
       "    </tr>\n",
       "    <tr>\n",
       "      <th>4</th>\n",
       "      <td>0.435006</td>\n",
       "      <td>0.747148</td>\n",
       "      <td>0.162095</td>\n",
       "      <td>0.669156</td>\n",
       "      <td>0.578411</td>\n",
       "      <td>0.364741</td>\n",
       "      <td>0.845923</td>\n",
       "      <td>0.446364</td>\n",
       "      <td>0.077518</td>\n",
       "      <td>0.815201</td>\n",
       "      <td>...</td>\n",
       "      <td>0.309188</td>\n",
       "      <td>0.080661</td>\n",
       "      <td>0.791349</td>\n",
       "      <td>0.668205</td>\n",
       "      <td>0.257340</td>\n",
       "      <td>0.619013</td>\n",
       "      <td>0.263495</td>\n",
       "      <td>0.929391</td>\n",
       "      <td>0.253834</td>\n",
       "      <td>0.371627</td>\n",
       "    </tr>\n",
       "  </tbody>\n",
       "</table>\n",
       "<p>5 rows × 100 columns</p>\n",
       "</div>"
      ],
      "text/plain": [
       "         0         1         2         3         4         5         6   \\\n",
       "0  0.437501  0.549607  0.966316  0.431860  0.813011  0.757416  0.398004   \n",
       "1  0.723507  0.807902  0.575180  0.432969  0.069530  0.309901  0.600393   \n",
       "2  0.202324  0.262006  0.351036  0.341338  0.530930  0.348080  0.917943   \n",
       "3  0.241840  0.358536  0.163215  0.221451  0.834614  0.642723  0.389129   \n",
       "4  0.435006  0.747148  0.162095  0.669156  0.578411  0.364741  0.845923   \n",
       "\n",
       "         7         8         9   ...        90        91        92        93  \\\n",
       "0  0.916542  0.857820  0.304251  ...  0.077118  0.069144  0.802100  0.271098   \n",
       "1  0.358048  0.665267  0.483261  ...  0.537863  0.818536  0.089415  0.833943   \n",
       "2  0.531577  0.212316  0.401930  ...  0.199110  0.755706  0.677789  0.991196   \n",
       "3  0.767653  0.146999  0.755906  ...  0.776681  0.494188  0.706627  0.646882   \n",
       "4  0.446364  0.077518  0.815201  ...  0.309188  0.080661  0.791349  0.668205   \n",
       "\n",
       "         94        95        96        97        98        99  \n",
       "0  0.691566  0.320070  0.508350  0.449817  0.138791  0.007714  \n",
       "1  0.894389  0.459176  0.213191  0.045725  0.226361  0.485429  \n",
       "2  0.242301  0.143432  0.610457  0.723545  0.083407  0.997692  \n",
       "3  0.402310  0.841243  0.735526  0.524680  0.693281  0.173812  \n",
       "4  0.257340  0.619013  0.263495  0.929391  0.253834  0.371627  \n",
       "\n",
       "[5 rows x 100 columns]"
      ]
     },
     "execution_count": 29,
     "metadata": {},
     "output_type": "execute_result"
    }
   ],
   "source": [
    "df1 = pd.DataFrame([np.random.random(100) for x in range(100)])\n",
    "df1.head()"
   ]
  },
  {
   "cell_type": "code",
   "execution_count": 32,
   "id": "54eac3b0",
   "metadata": {},
   "outputs": [
    {
     "data": {
      "text/html": [
       "<div>\n",
       "<style scoped>\n",
       "    .dataframe tbody tr th:only-of-type {\n",
       "        vertical-align: middle;\n",
       "    }\n",
       "\n",
       "    .dataframe tbody tr th {\n",
       "        vertical-align: top;\n",
       "    }\n",
       "\n",
       "    .dataframe thead th {\n",
       "        text-align: right;\n",
       "    }\n",
       "</style>\n",
       "<table border=\"1\" class=\"dataframe\">\n",
       "  <thead>\n",
       "    <tr style=\"text-align: right;\">\n",
       "      <th></th>\n",
       "      <th>0</th>\n",
       "      <th>1</th>\n",
       "      <th>2</th>\n",
       "      <th>3</th>\n",
       "      <th>4</th>\n",
       "      <th>5</th>\n",
       "      <th>6</th>\n",
       "      <th>7</th>\n",
       "      <th>8</th>\n",
       "      <th>9</th>\n",
       "      <th>...</th>\n",
       "      <th>90</th>\n",
       "      <th>91</th>\n",
       "      <th>92</th>\n",
       "      <th>93</th>\n",
       "      <th>94</th>\n",
       "      <th>95</th>\n",
       "      <th>96</th>\n",
       "      <th>97</th>\n",
       "      <th>98</th>\n",
       "      <th>99</th>\n",
       "    </tr>\n",
       "  </thead>\n",
       "  <tbody>\n",
       "    <tr>\n",
       "      <th>0</th>\n",
       "      <td>0.416445</td>\n",
       "      <td>0.934003</td>\n",
       "      <td>0.607336</td>\n",
       "      <td>0.272490</td>\n",
       "      <td>0.307515</td>\n",
       "      <td>0.219715</td>\n",
       "      <td>0.162560</td>\n",
       "      <td>0.474500</td>\n",
       "      <td>0.119315</td>\n",
       "      <td>0.355039</td>\n",
       "      <td>...</td>\n",
       "      <td>0.354984</td>\n",
       "      <td>0.854244</td>\n",
       "      <td>0.465844</td>\n",
       "      <td>0.967907</td>\n",
       "      <td>0.913421</td>\n",
       "      <td>0.067574</td>\n",
       "      <td>0.068479</td>\n",
       "      <td>0.550692</td>\n",
       "      <td>0.057094</td>\n",
       "      <td>0.850658</td>\n",
       "    </tr>\n",
       "    <tr>\n",
       "      <th>1</th>\n",
       "      <td>0.579267</td>\n",
       "      <td>0.626136</td>\n",
       "      <td>0.783058</td>\n",
       "      <td>0.367985</td>\n",
       "      <td>0.591596</td>\n",
       "      <td>0.715190</td>\n",
       "      <td>0.520096</td>\n",
       "      <td>0.673791</td>\n",
       "      <td>0.469295</td>\n",
       "      <td>0.838944</td>\n",
       "      <td>...</td>\n",
       "      <td>0.042080</td>\n",
       "      <td>0.574894</td>\n",
       "      <td>0.880837</td>\n",
       "      <td>0.383754</td>\n",
       "      <td>0.682319</td>\n",
       "      <td>0.038975</td>\n",
       "      <td>0.907823</td>\n",
       "      <td>0.419307</td>\n",
       "      <td>0.457261</td>\n",
       "      <td>0.448171</td>\n",
       "    </tr>\n",
       "    <tr>\n",
       "      <th>2</th>\n",
       "      <td>0.660664</td>\n",
       "      <td>0.494375</td>\n",
       "      <td>0.455688</td>\n",
       "      <td>0.041647</td>\n",
       "      <td>0.279943</td>\n",
       "      <td>0.838393</td>\n",
       "      <td>0.073603</td>\n",
       "      <td>0.439809</td>\n",
       "      <td>0.477788</td>\n",
       "      <td>0.019447</td>\n",
       "      <td>...</td>\n",
       "      <td>0.165881</td>\n",
       "      <td>0.584623</td>\n",
       "      <td>0.148652</td>\n",
       "      <td>0.005270</td>\n",
       "      <td>0.726084</td>\n",
       "      <td>0.347332</td>\n",
       "      <td>0.653616</td>\n",
       "      <td>0.905791</td>\n",
       "      <td>0.178879</td>\n",
       "      <td>0.763633</td>\n",
       "    </tr>\n",
       "    <tr>\n",
       "      <th>3</th>\n",
       "      <td>0.505493</td>\n",
       "      <td>0.071715</td>\n",
       "      <td>0.761747</td>\n",
       "      <td>0.352640</td>\n",
       "      <td>0.304871</td>\n",
       "      <td>0.524023</td>\n",
       "      <td>0.710882</td>\n",
       "      <td>0.449414</td>\n",
       "      <td>0.211324</td>\n",
       "      <td>0.006613</td>\n",
       "      <td>...</td>\n",
       "      <td>0.438257</td>\n",
       "      <td>0.089550</td>\n",
       "      <td>0.950775</td>\n",
       "      <td>0.224078</td>\n",
       "      <td>0.384245</td>\n",
       "      <td>0.837544</td>\n",
       "      <td>0.880392</td>\n",
       "      <td>0.923498</td>\n",
       "      <td>0.265912</td>\n",
       "      <td>0.620792</td>\n",
       "    </tr>\n",
       "    <tr>\n",
       "      <th>4</th>\n",
       "      <td>0.217417</td>\n",
       "      <td>0.645762</td>\n",
       "      <td>0.612121</td>\n",
       "      <td>0.442816</td>\n",
       "      <td>0.482331</td>\n",
       "      <td>0.972160</td>\n",
       "      <td>0.349098</td>\n",
       "      <td>0.145080</td>\n",
       "      <td>0.717053</td>\n",
       "      <td>0.814999</td>\n",
       "      <td>...</td>\n",
       "      <td>0.504376</td>\n",
       "      <td>0.379641</td>\n",
       "      <td>0.142320</td>\n",
       "      <td>0.504925</td>\n",
       "      <td>0.262304</td>\n",
       "      <td>0.746611</td>\n",
       "      <td>0.252650</td>\n",
       "      <td>0.181604</td>\n",
       "      <td>0.246732</td>\n",
       "      <td>0.632486</td>\n",
       "    </tr>\n",
       "  </tbody>\n",
       "</table>\n",
       "<p>5 rows × 100 columns</p>\n",
       "</div>"
      ],
      "text/plain": [
       "         0         1         2         3         4         5         6   \\\n",
       "0  0.416445  0.934003  0.607336  0.272490  0.307515  0.219715  0.162560   \n",
       "1  0.579267  0.626136  0.783058  0.367985  0.591596  0.715190  0.520096   \n",
       "2  0.660664  0.494375  0.455688  0.041647  0.279943  0.838393  0.073603   \n",
       "3  0.505493  0.071715  0.761747  0.352640  0.304871  0.524023  0.710882   \n",
       "4  0.217417  0.645762  0.612121  0.442816  0.482331  0.972160  0.349098   \n",
       "\n",
       "         7         8         9   ...        90        91        92        93  \\\n",
       "0  0.474500  0.119315  0.355039  ...  0.354984  0.854244  0.465844  0.967907   \n",
       "1  0.673791  0.469295  0.838944  ...  0.042080  0.574894  0.880837  0.383754   \n",
       "2  0.439809  0.477788  0.019447  ...  0.165881  0.584623  0.148652  0.005270   \n",
       "3  0.449414  0.211324  0.006613  ...  0.438257  0.089550  0.950775  0.224078   \n",
       "4  0.145080  0.717053  0.814999  ...  0.504376  0.379641  0.142320  0.504925   \n",
       "\n",
       "         94        95        96        97        98        99  \n",
       "0  0.913421  0.067574  0.068479  0.550692  0.057094  0.850658  \n",
       "1  0.682319  0.038975  0.907823  0.419307  0.457261  0.448171  \n",
       "2  0.726084  0.347332  0.653616  0.905791  0.178879  0.763633  \n",
       "3  0.384245  0.837544  0.880392  0.923498  0.265912  0.620792  \n",
       "4  0.262304  0.746611  0.252650  0.181604  0.246732  0.632486  \n",
       "\n",
       "[5 rows x 100 columns]"
      ]
     },
     "execution_count": 32,
     "metadata": {},
     "output_type": "execute_result"
    }
   ],
   "source": [
    "df2 = pd.DataFrame([np.random.random(100) for x in range(100)])\n",
    "df2.head()"
   ]
  },
  {
   "cell_type": "code",
   "execution_count": 35,
   "id": "3e06f3bc",
   "metadata": {},
   "outputs": [
    {
     "name": "stdout",
     "output_type": "stream",
     "text": [
      "Col 2 is statistically significantly different at alpha = 0.1, pval = 0.07012026053090054\n",
      "Col 6 is statistically significantly different at alpha = 0.1, pval = 0.013410156167095837\n",
      "Col 21 is statistically significantly different at alpha = 0.1, pval = 0.0011430160894755187\n",
      "Col 39 is statistically significantly different at alpha = 0.1, pval = 0.010003022971653197\n",
      "Col 43 is statistically significantly different at alpha = 0.1, pval = 0.07896471962990165\n",
      "Col 89 is statistically significantly different at alpha = 0.1, pval = 0.08105121537055932\n",
      "Total number of different was 6, which is 6.0%\n"
     ]
    }
   ],
   "source": [
    "def test_columns(alpha=0.1):\n",
    "    num_diff = 0\n",
    "    for col in df1.columns:\n",
    "        teststat, pval = ttest_ind(df1[col], df2[col])\n",
    "        if pval <= alpha:\n",
    "            print(\"Col {} is statistically significantly different at alpha = {}, pval = {}\"\n",
    "                  .format(col, alpha, pval))\n",
    "            num_diff = num_diff + 1\n",
    "    print(\"Total number of different was {}, which is {}%\".format(\n",
    "        num_diff, \n",
    "        float(num_diff) / \n",
    "        len(df1.columns) * \n",
    "        100))\n",
    "    \n",
    "test_columns()"
   ]
  },
  {
   "cell_type": "code",
   "execution_count": 37,
   "id": "30f22206",
   "metadata": {},
   "outputs": [
    {
     "name": "stdout",
     "output_type": "stream",
     "text": [
      "Col 6 is statistically significantly different at alpha = 0.05, pval = 0.013410156167095837\n",
      "Col 21 is statistically significantly different at alpha = 0.05, pval = 0.0011430160894755187\n",
      "Col 39 is statistically significantly different at alpha = 0.05, pval = 0.010003022971653197\n",
      "Total number of different was 3, which is 3.0%\n"
     ]
    }
   ],
   "source": [
    "test_columns(0.05)"
   ]
  },
  {
   "cell_type": "code",
   "execution_count": 38,
   "id": "ef568d10",
   "metadata": {},
   "outputs": [],
   "source": [
    "# Other Data structure"
   ]
  },
  {
   "cell_type": "code",
   "execution_count": 2,
   "id": "fc84fb1d",
   "metadata": {},
   "outputs": [
    {
     "data": {
      "text/plain": [
       "46"
      ]
     },
     "execution_count": 2,
     "metadata": {},
     "output_type": "execute_result"
    }
   ],
   "source": [
    "import numpy as np\n",
    "\n",
    "a = np.arange(8)\n",
    "b = a[4:6]\n",
    "b[:] = 40\n",
    "c = a[4] + a[6]\n",
    "\n",
    "c"
   ]
  },
  {
   "cell_type": "code",
   "execution_count": 7,
   "id": "785814e2",
   "metadata": {},
   "outputs": [
    {
     "data": {
      "text/plain": [
       "True"
      ]
     },
     "execution_count": 7,
     "metadata": {},
     "output_type": "execute_result"
    }
   ],
   "source": [
    "import re\n",
    "s = 'ABCAC'\n",
    "\n",
    "bool(re.match('A', s)) == True"
   ]
  },
  {
   "cell_type": "code",
   "execution_count": 11,
   "id": "3942b868",
   "metadata": {},
   "outputs": [
    {
     "data": {
      "text/plain": [
       "['C', 'F', 'B']"
      ]
     },
     "execution_count": 11,
     "metadata": {},
     "output_type": "execute_result"
    }
   ],
   "source": [
    "def result():\n",
    "    s = 'ACAABAACAAABACDBADDDFSDDDFFSSSASDAFAAACBAAAFASD'\n",
    "\n",
    "    result = []\n",
    "    # compete the pattern below\n",
    "    pattern = '[^A](?=A{3})'\n",
    "    for item in re.finditer(pattern, s):\n",
    "      # identify the group number below.\n",
    "      result.append(item.group())\n",
    "      \n",
    "    return result\n",
    "\n",
    "result()"
   ]
  },
  {
   "cell_type": "code",
   "execution_count": 27,
   "id": "db9f493a",
   "metadata": {},
   "outputs": [
    {
     "data": {
      "text/html": [
       "<div>\n",
       "<style scoped>\n",
       "    .dataframe tbody tr th:only-of-type {\n",
       "        vertical-align: middle;\n",
       "    }\n",
       "\n",
       "    .dataframe tbody tr th {\n",
       "        vertical-align: top;\n",
       "    }\n",
       "\n",
       "    .dataframe thead th {\n",
       "        text-align: right;\n",
       "    }\n",
       "</style>\n",
       "<table border=\"1\" class=\"dataframe\">\n",
       "  <thead>\n",
       "    <tr style=\"text-align: right;\">\n",
       "      <th></th>\n",
       "      <th>0</th>\n",
       "    </tr>\n",
       "  </thead>\n",
       "  <tbody>\n",
       "    <tr>\n",
       "      <th>d</th>\n",
       "      <td>4</td>\n",
       "    </tr>\n",
       "    <tr>\n",
       "      <th>b</th>\n",
       "      <td>7</td>\n",
       "    </tr>\n",
       "    <tr>\n",
       "      <th>a</th>\n",
       "      <td>-5</td>\n",
       "    </tr>\n",
       "    <tr>\n",
       "      <th>c</th>\n",
       "      <td>3</td>\n",
       "    </tr>\n",
       "  </tbody>\n",
       "</table>\n",
       "</div>"
      ],
      "text/plain": [
       "   0\n",
       "d  4\n",
       "b  7\n",
       "a -5\n",
       "c  3"
      ]
     },
     "execution_count": 27,
     "metadata": {},
     "output_type": "execute_result"
    }
   ],
   "source": [
    "import pandas as pd\n",
    "df = pd.DataFrame([4, 7, -5, 3],['d', 'b', 'a', 'c'])\n",
    "df"
   ]
  },
  {
   "cell_type": "code",
   "execution_count": 28,
   "id": "6a93a2ad",
   "metadata": {},
   "outputs": [
    {
     "data": {
      "text/plain": [
       "0    4\n",
       "Name: d, dtype: int64"
      ]
     },
     "execution_count": 28,
     "metadata": {},
     "output_type": "execute_result"
    }
   ],
   "source": [
    "df.iloc[0]"
   ]
  },
  {
   "cell_type": "code",
   "execution_count": 29,
   "id": "40acf83c",
   "metadata": {},
   "outputs": [
    {
     "data": {
      "text/plain": [
       "'d'"
      ]
     },
     "execution_count": 29,
     "metadata": {},
     "output_type": "execute_result"
    }
   ],
   "source": [
    "df.index[0]"
   ]
  },
  {
   "cell_type": "code",
   "execution_count": 30,
   "id": "2535c40f",
   "metadata": {},
   "outputs": [
    {
     "data": {
      "text/plain": [
       "d    4\n",
       "b    7\n",
       "a   -5\n",
       "c    3\n",
       "Name: 0, dtype: int64"
      ]
     },
     "execution_count": 30,
     "metadata": {},
     "output_type": "execute_result"
    }
   ],
   "source": [
    "df[0]"
   ]
  },
  {
   "cell_type": "code",
   "execution_count": 61,
   "id": "541a9855",
   "metadata": {},
   "outputs": [
    {
     "name": "stdout",
     "output_type": "stream",
     "text": [
      "{'Mango': 20, 'Strawberry': 15, 'Blueberry': 18, 'Vanilla': 31}\n",
      "          \n",
      "{'Strawberry': 20, 'Vanilla': 30, 'Banana': 15, 'Mango': 20, 'Plain': 20}\n"
     ]
    }
   ],
   "source": [
    "s1 = np.array({'Mango' : 20, 'Strawberry' : 15, 'Blueberry' : 18, 'Vanilla' : 31})\n",
    "\n",
    "s2 = np.array({'Strawberry' : 20, 'Vanilla' : 30, 'Banana' : 15, 'Mango' : 20, 'Plain' : 20})\n",
    "\n",
    "print(s1)\n",
    "print('          ')\n",
    "print(s2)\n"
   ]
  },
  {
   "cell_type": "code",
   "execution_count": 64,
   "id": "f7e72449",
   "metadata": {},
   "outputs": [
    {
     "data": {
      "text/plain": [
       "a    0\n",
       "b    1\n",
       "c    2\n",
       "d    3\n",
       "e    4\n",
       "dtype: int32"
      ]
     },
     "execution_count": 64,
     "metadata": {},
     "output_type": "execute_result"
    }
   ],
   "source": [
    "S = pd.Series(np.arange(5), index=['a', 'b', 'c', 'd', 'e'])\n",
    "S"
   ]
  },
  {
   "cell_type": "code",
   "execution_count": 65,
   "id": "00d0391f",
   "metadata": {},
   "outputs": [
    {
     "data": {
      "text/plain": [
       "b    1\n",
       "c    2\n",
       "d    3\n",
       "e    4\n",
       "dtype: int32"
      ]
     },
     "execution_count": 65,
     "metadata": {},
     "output_type": "execute_result"
    }
   ],
   "source": [
    "S['b':'e']"
   ]
  },
  {
   "cell_type": "code",
   "execution_count": 66,
   "id": "2dfe0539",
   "metadata": {},
   "outputs": [
    {
     "data": {
      "text/plain": [
       "b    1\n",
       "c    2\n",
       "d    3\n",
       "dtype: int32"
      ]
     },
     "execution_count": 66,
     "metadata": {},
     "output_type": "execute_result"
    }
   ],
   "source": [
    "S[['b', 'c', 'd']]"
   ]
  },
  {
   "cell_type": "code",
   "execution_count": 67,
   "id": "20e61d18",
   "metadata": {},
   "outputs": [
    {
     "data": {
      "text/plain": [
       "b    1\n",
       "c    2\n",
       "d    3\n",
       "dtype: int32"
      ]
     },
     "execution_count": 67,
     "metadata": {},
     "output_type": "execute_result"
    }
   ],
   "source": [
    "S[S <= 3][S > 0]"
   ]
  },
  {
   "cell_type": "code",
   "execution_count": 68,
   "id": "395e2bcb",
   "metadata": {},
   "outputs": [
    {
     "data": {
      "text/plain": [
       "b    1\n",
       "c    2\n",
       "d    3\n",
       "dtype: int32"
      ]
     },
     "execution_count": 68,
     "metadata": {},
     "output_type": "execute_result"
    }
   ],
   "source": [
    "S[1:4]"
   ]
  },
  {
   "cell_type": "code",
   "execution_count": 82,
   "id": "d8c0b0da",
   "metadata": {},
   "outputs": [
    {
     "data": {
      "text/html": [
       "<div>\n",
       "<style scoped>\n",
       "    .dataframe tbody tr th:only-of-type {\n",
       "        vertical-align: middle;\n",
       "    }\n",
       "\n",
       "    .dataframe tbody tr th {\n",
       "        vertical-align: top;\n",
       "    }\n",
       "\n",
       "    .dataframe thead th {\n",
       "        text-align: right;\n",
       "    }\n",
       "</style>\n",
       "<table border=\"1\" class=\"dataframe\">\n",
       "  <thead>\n",
       "    <tr style=\"text-align: right;\">\n",
       "      <th></th>\n",
       "      <th>a</th>\n",
       "      <th>b</th>\n",
       "      <th>c</th>\n",
       "    </tr>\n",
       "    <tr>\n",
       "      <th>0</th>\n",
       "      <th></th>\n",
       "      <th></th>\n",
       "      <th></th>\n",
       "    </tr>\n",
       "  </thead>\n",
       "  <tbody>\n",
       "    <tr>\n",
       "      <th>R1</th>\n",
       "      <td>5</td>\n",
       "      <td>6</td>\n",
       "      <td>20</td>\n",
       "    </tr>\n",
       "    <tr>\n",
       "      <th>R2</th>\n",
       "      <td>5</td>\n",
       "      <td>82</td>\n",
       "      <td>28</td>\n",
       "    </tr>\n",
       "    <tr>\n",
       "      <th>R3</th>\n",
       "      <td>71</td>\n",
       "      <td>31</td>\n",
       "      <td>92</td>\n",
       "    </tr>\n",
       "    <tr>\n",
       "      <th>R4</th>\n",
       "      <td>67</td>\n",
       "      <td>37</td>\n",
       "      <td>49</td>\n",
       "    </tr>\n",
       "  </tbody>\n",
       "</table>\n",
       "</div>"
      ],
      "text/plain": [
       "     a   b   c\n",
       "0             \n",
       "R1   5   6  20\n",
       "R2   5  82  28\n",
       "R3  71  31  92\n",
       "R4  67  37  49"
      ]
     },
     "execution_count": 82,
     "metadata": {},
     "output_type": "execute_result"
    }
   ],
   "source": [
    "df = pd.DataFrame({0 : ['R1', 'R2', 'R3', 'R4'], \n",
    "                   'a' : [5, 5, 71, 67], \n",
    "                   'b' : [6, 82, 31, 37], \n",
    "                   'c' : [20, 28, 92, 49]}).set_index(0)\n",
    "\n",
    "df"
   ]
  },
  {
   "cell_type": "code",
   "execution_count": 86,
   "id": "b8eb4057",
   "metadata": {},
   "outputs": [
    {
     "data": {
      "text/plain": [
       "88"
      ]
     },
     "execution_count": 86,
     "metadata": {},
     "output_type": "execute_result"
    }
   ],
   "source": [
    "f = lambda x: x.max() + x.min()\n",
    "df_new = df.apply(f)\n",
    "df_new[1]"
   ]
  },
  {
   "cell_type": "code",
   "execution_count": 89,
   "id": "3b53e3e9",
   "metadata": {},
   "outputs": [
    {
     "data": {
      "text/plain": [
       "R1  a     5\n",
       "    b     6\n",
       "    c    20\n",
       "R2  a     5\n",
       "    b    82\n",
       "    c    28\n",
       "R3  a    71\n",
       "    b    31\n",
       "    c    92\n",
       "R4  a    67\n",
       "    b    37\n",
       "    c    49\n",
       "dtype: int64"
      ]
     },
     "execution_count": 89,
     "metadata": {},
     "output_type": "execute_result"
    }
   ],
   "source": [
    "df.stack()"
   ]
  },
  {
   "cell_type": "code",
   "execution_count": 103,
   "id": "d92961d1",
   "metadata": {},
   "outputs": [
    {
     "data": {
      "text/html": [
       "<div>\n",
       "<style scoped>\n",
       "    .dataframe tbody tr th:only-of-type {\n",
       "        vertical-align: middle;\n",
       "    }\n",
       "\n",
       "    .dataframe tbody tr th {\n",
       "        vertical-align: top;\n",
       "    }\n",
       "\n",
       "    .dataframe thead th {\n",
       "        text-align: right;\n",
       "    }\n",
       "</style>\n",
       "<table border=\"1\" class=\"dataframe\">\n",
       "  <thead>\n",
       "    <tr style=\"text-align: right;\">\n",
       "      <th></th>\n",
       "      <th>Item</th>\n",
       "      <th>Store</th>\n",
       "      <th>Quantity sold</th>\n",
       "    </tr>\n",
       "  </thead>\n",
       "  <tbody>\n",
       "    <tr>\n",
       "      <th>0</th>\n",
       "      <td>item_1</td>\n",
       "      <td>A</td>\n",
       "      <td>10.0</td>\n",
       "    </tr>\n",
       "    <tr>\n",
       "      <th>1</th>\n",
       "      <td>item_1</td>\n",
       "      <td>B</td>\n",
       "      <td>20.0</td>\n",
       "    </tr>\n",
       "    <tr>\n",
       "      <th>2</th>\n",
       "      <td>item_1</td>\n",
       "      <td>C</td>\n",
       "      <td>0.0</td>\n",
       "    </tr>\n",
       "    <tr>\n",
       "      <th>3</th>\n",
       "      <td>item_2</td>\n",
       "      <td>A</td>\n",
       "      <td>5.0</td>\n",
       "    </tr>\n",
       "    <tr>\n",
       "      <th>4</th>\n",
       "      <td>item_2</td>\n",
       "      <td>B</td>\n",
       "      <td>10.0</td>\n",
       "    </tr>\n",
       "    <tr>\n",
       "      <th>5</th>\n",
       "      <td>item_2</td>\n",
       "      <td>C</td>\n",
       "      <td>15.0</td>\n",
       "    </tr>\n",
       "  </tbody>\n",
       "</table>\n",
       "</div>"
      ],
      "text/plain": [
       "     Item Store  Quantity sold\n",
       "0  item_1     A           10.0\n",
       "1  item_1     B           20.0\n",
       "2  item_1     C            0.0\n",
       "3  item_2     A            5.0\n",
       "4  item_2     B           10.0\n",
       "5  item_2     C           15.0"
      ]
     },
     "execution_count": 103,
     "metadata": {},
     "output_type": "execute_result"
    }
   ],
   "source": [
    "df = pd.DataFrame({'Item' : ['item_1', 'item_1', 'item_1', 'item_2', 'item_2', 'item_2',], \n",
    "                   'Store' : ['A', 'B', 'C', 'A', 'B', 'C'], \n",
    "                   'Quantity sold' : [10.0, 20.0, 0, 5.0, 10.0, 15.0]})\n",
    "df "
   ]
  },
  {
   "cell_type": "code",
   "execution_count": 104,
   "id": "24de26d7",
   "metadata": {},
   "outputs": [
    {
     "data": {
      "text/plain": [
       "30.0"
      ]
     },
     "execution_count": 104,
     "metadata": {},
     "output_type": "execute_result"
    }
   ],
   "source": [
    "df.groupby('Item').sum().iloc[0]['Quantity sold']"
   ]
  }
 ],
 "metadata": {
  "kernelspec": {
   "display_name": "Python 3 (ipykernel)",
   "language": "python",
   "name": "python3"
  },
  "language_info": {
   "codemirror_mode": {
    "name": "ipython",
    "version": 3
   },
   "file_extension": ".py",
   "mimetype": "text/x-python",
   "name": "python",
   "nbconvert_exporter": "python",
   "pygments_lexer": "ipython3",
   "version": "3.8.12"
  }
 },
 "nbformat": 4,
 "nbformat_minor": 5
}
