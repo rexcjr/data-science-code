{
 "cells": [
  {
   "cell_type": "code",
   "execution_count": 1,
   "metadata": {},
   "outputs": [],
   "source": [
    "import requests\n",
    "import json\n",
    "\n",
    "PERMANENT_CACHE_FNAME = \"permanent_cache.txt\"\n",
    "TEMP_CACHE_FNAME = \"this_page_cache.txt\"\n",
    "\n",
    "def _write_to_file(cache, fname):\n",
    "    with open(fname, 'w') as outfile:\n",
    "        outfile.write(json.dumps(cache, indent=2))\n",
    "\n",
    "def _read_from_file(fname):\n",
    "    try:\n",
    "        with open(fname, 'r') as infile:\n",
    "            res = infile.read()\n",
    "            return json.loads(res)\n",
    "    except:\n",
    "        return {}\n",
    "\n",
    "def add_to_cache(cache_file, cache_key, cache_value):\n",
    "    temp_cache = _read_from_file(cache_file)\n",
    "    temp_cache[cache_key] = cache_value\n",
    "    _write_to_file(temp_cache, cache_file)\n",
    "\n",
    "def clear_cache(cache_file=TEMP_CACHE_FNAME):\n",
    "    _write_to_file({}, cache_file)\n",
    "\n",
    "def make_cache_key(baseurl, params_d, private_keys=[\"api_key\"]):\n",
    "    \"\"\"Makes a long string representing the query.\n",
    "    Alphabetize the keys from the params dictionary so we get the same order each time.\n",
    "    Omit keys with private info.\"\"\"\n",
    "    alphabetized_keys = sorted(params_d.keys())\n",
    "    res = []\n",
    "    for k in alphabetized_keys:\n",
    "        if k not in private_keys:\n",
    "            res.append(\"{}-{}\".format(k, params_d[k]))\n",
    "    return baseurl + \"_\".join(res)\n",
    "\n",
    "def get(baseurl, params={}, private_keys_to_ignore=[\"api_key\"], permanent_cache_file=PERMANENT_CACHE_FNAME, temp_cache_file=TEMP_CACHE_FNAME):\n",
    "    full_url = requests.requestURL(baseurl, params)\n",
    "    cache_key = make_cache_key(baseurl, params, private_keys_to_ignore)\n",
    "    # Load the permanent and page-specific caches from files\n",
    "    permanent_cache = _read_from_file(permanent_cache_file)\n",
    "    temp_cache = _read_from_file(temp_cache_file)\n",
    "    if cache_key in temp_cache:\n",
    "        print(\"found in temp_cache\")\n",
    "        # make a Response object containing text from the change, and the full_url that would have been fetched\n",
    "        return requests.Response(temp_cache[cache_key], full_url)\n",
    "    elif cache_key in permanent_cache:\n",
    "        print(\"found in permanent_cache\")\n",
    "        # make a Response object containing text from the change, and the full_url that would have been fetched\n",
    "        return requests.Response(permanent_cache[cache_key], full_url)\n",
    "    else:\n",
    "        print(\"new; adding to cache\")\n",
    "        # actually request it\n",
    "        resp = requests.get(baseurl, params)\n",
    "        # save it\n",
    "        add_to_cache(temp_cache_file, cache_key, resp.text)\n",
    "        return resp"
   ]
  }
 ],
 "metadata": {
  "interpreter": {
   "hash": "3ce9f59faa753148a93e5aed37983c83980820df128480801c3b8d5d64accdac"
  },
  "kernelspec": {
   "display_name": "Python 3 (ipykernel)",
   "language": "python",
   "name": "python3"
  },
  "language_info": {
   "codemirror_mode": {
    "name": "ipython",
    "version": 3
   },
   "file_extension": ".py",
   "mimetype": "text/x-python",
   "name": "python",
   "nbconvert_exporter": "python",
   "pygments_lexer": "ipython3",
   "version": "3.8.12"
  }
 },
 "nbformat": 4,
 "nbformat_minor": 2
}
