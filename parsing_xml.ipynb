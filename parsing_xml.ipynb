{
 "cells": [
  {
   "cell_type": "code",
   "execution_count": null,
   "id": "2c596ebc",
   "metadata": {},
   "outputs": [
    {
     "name": "stdout",
     "output_type": "stream",
     "text": [
      "Enter location: http://py4e-data.dr-chuck.net/comments_1433541.xml\n",
      "Retrieving http://py4e-data.dr-chuck.net/comments_1433541.xml\n",
      "Retrieved 4216 characters\n",
      "Count: 50\n",
      "Sum: 2389\n"
     ]
    }
   ],
   "source": [
    "import urllib.request, urllib.parse, urllib.error\n",
    "import xml.etree.ElementTree as ET\n",
    "import ssl\n",
    "\n",
    "# Ignore SSL certificate errors\n",
    "ctx = ssl.create_default_context()\n",
    "ctx.check_hostname = False\n",
    "ctx.verify_mode = ssl.CERT_NONE\n",
    "\n",
    "# loop until False\n",
    "while True:\n",
    "    address = input('Enter location: ')\n",
    "    if len(address) < 1: break\n",
    "\n",
    "    #prints the retreiving URL\n",
    "    print('Retrieving', address)\n",
    "    #creates a handle for XML data from URL using urllib\n",
    "    uh = urllib.request.urlopen(address, context=ctx)\n",
    "    #decode/read XML data\n",
    "    data = uh.read()\n",
    "    #print no. of characters\n",
    "    print('Retrieved', len(data), 'characters')\n",
    "    \n",
    "    #parse xml to tree list \n",
    "    tree = ET.fromstring(data)\n",
    "    #finds all tags 'comments/comment' and puts inside a list var \n",
    "    tags = tree.findall('comments/comment')\n",
    "    \n",
    "    \n",
    "    # loop to get sum of values\n",
    "    total = 0\n",
    "    for i in tags :\n",
    "        num = int(i.find('count').text)  \n",
    "        total = total + num\n",
    "    \n",
    "    \n",
    "    counts = tree.findall('.//count')\n",
    "    print('Count:', len(counts))\n",
    "    print('Sum:', total )\n",
    "\n",
    "   "
   ]
  }
 ],
 "metadata": {
  "kernelspec": {
   "display_name": "Python 3 (ipykernel)",
   "language": "python",
   "name": "python3"
  },
  "language_info": {
   "codemirror_mode": {
    "name": "ipython",
    "version": 3
   },
   "file_extension": ".py",
   "mimetype": "text/x-python",
   "name": "python",
   "nbconvert_exporter": "python",
   "pygments_lexer": "ipython3",
   "version": "3.8.12"
  }
 },
 "nbformat": 4,
 "nbformat_minor": 5
}
