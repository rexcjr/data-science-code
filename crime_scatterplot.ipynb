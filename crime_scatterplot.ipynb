{
 "cells": [
  {
   "cell_type": "markdown",
   "id": "4ca8f283",
   "metadata": {},
   "source": [
    "# 5.3.1 Feature Engineering"
   ]
  },
  {
   "cell_type": "code",
   "execution_count": 1,
   "id": "c5cad9d6",
   "metadata": {},
   "outputs": [],
   "source": [
    "# cleaning csv file"
   ]
  },
  {
   "cell_type": "code",
   "execution_count": 2,
   "id": "0887dd50",
   "metadata": {},
   "outputs": [],
   "source": [
    "# Import all needed lbraries\n",
    "import pandas as pd\n",
    "import seaborn as sns"
   ]
  },
  {
   "cell_type": "code",
   "execution_count": 3,
   "id": "113ef0bd",
   "metadata": {},
   "outputs": [
    {
     "data": {
      "text/html": [
       "<div>\n",
       "<style scoped>\n",
       "    .dataframe tbody tr th:only-of-type {\n",
       "        vertical-align: middle;\n",
       "    }\n",
       "\n",
       "    .dataframe tbody tr th {\n",
       "        vertical-align: top;\n",
       "    }\n",
       "\n",
       "    .dataframe thead th {\n",
       "        text-align: right;\n",
       "    }\n",
       "</style>\n",
       "<table border=\"1\" class=\"dataframe\">\n",
       "  <thead>\n",
       "    <tr style=\"text-align: right;\">\n",
       "      <th></th>\n",
       "      <th>cdatetime</th>\n",
       "      <th>address</th>\n",
       "      <th>district</th>\n",
       "      <th>beat</th>\n",
       "      <th>grid</th>\n",
       "      <th>crimedescr</th>\n",
       "      <th>ucr_ncic_code</th>\n",
       "      <th>latitude</th>\n",
       "      <th>longitude</th>\n",
       "    </tr>\n",
       "  </thead>\n",
       "  <tbody>\n",
       "    <tr>\n",
       "      <th>0</th>\n",
       "      <td>1/1/2006 0:00</td>\n",
       "      <td>3108 OCCIDENTAL DR</td>\n",
       "      <td>3</td>\n",
       "      <td>3C</td>\n",
       "      <td>1115</td>\n",
       "      <td>10851(A)VC TAKE VEH W/O OWNER</td>\n",
       "      <td>2404</td>\n",
       "      <td>38.550420</td>\n",
       "      <td>-121.391416</td>\n",
       "    </tr>\n",
       "    <tr>\n",
       "      <th>1</th>\n",
       "      <td>1/1/2006 0:00</td>\n",
       "      <td>2082 EXPEDITION WAY</td>\n",
       "      <td>5</td>\n",
       "      <td>5A</td>\n",
       "      <td>1512</td>\n",
       "      <td>459 PC  BURGLARY RESIDENCE</td>\n",
       "      <td>2204</td>\n",
       "      <td>38.473501</td>\n",
       "      <td>-121.490186</td>\n",
       "    </tr>\n",
       "    <tr>\n",
       "      <th>2</th>\n",
       "      <td>1/1/2006 0:00</td>\n",
       "      <td>4 PALEN CT</td>\n",
       "      <td>2</td>\n",
       "      <td>2A</td>\n",
       "      <td>212</td>\n",
       "      <td>10851(A)VC TAKE VEH W/O OWNER</td>\n",
       "      <td>2404</td>\n",
       "      <td>38.657846</td>\n",
       "      <td>-121.462101</td>\n",
       "    </tr>\n",
       "  </tbody>\n",
       "</table>\n",
       "</div>"
      ],
      "text/plain": [
       "       cdatetime              address  district        beat  grid  \\\n",
       "0  1/1/2006 0:00   3108 OCCIDENTAL DR         3  3C          1115   \n",
       "1  1/1/2006 0:00  2082 EXPEDITION WAY         5  5A          1512   \n",
       "2  1/1/2006 0:00           4 PALEN CT         2  2A           212   \n",
       "\n",
       "                      crimedescr  ucr_ncic_code   latitude   longitude  \n",
       "0  10851(A)VC TAKE VEH W/O OWNER           2404  38.550420 -121.391416  \n",
       "1     459 PC  BURGLARY RESIDENCE           2204  38.473501 -121.490186  \n",
       "2  10851(A)VC TAKE VEH W/O OWNER           2404  38.657846 -121.462101  "
      ]
     },
     "execution_count": 3,
     "metadata": {},
     "output_type": "execute_result"
    }
   ],
   "source": [
    "# Read csv file\n",
    "df = pd.read_csv('crime.csv')\n",
    "df.head(3)"
   ]
  },
  {
   "cell_type": "code",
   "execution_count": 4,
   "id": "4a71fdac",
   "metadata": {},
   "outputs": [
    {
     "name": "stdout",
     "output_type": "stream",
     "text": [
      "<class 'pandas.core.frame.DataFrame'>\n",
      "RangeIndex: 7584 entries, 0 to 7583\n",
      "Data columns (total 9 columns):\n",
      " #   Column         Non-Null Count  Dtype  \n",
      "---  ------         --------------  -----  \n",
      " 0   cdatetime      7584 non-null   object \n",
      " 1   address        7584 non-null   object \n",
      " 2   district       7584 non-null   int64  \n",
      " 3   beat           7584 non-null   object \n",
      " 4   grid           7584 non-null   int64  \n",
      " 5   crimedescr     7584 non-null   object \n",
      " 6   ucr_ncic_code  7584 non-null   int64  \n",
      " 7   latitude       7584 non-null   float64\n",
      " 8   longitude      7584 non-null   float64\n",
      "dtypes: float64(2), int64(3), object(4)\n",
      "memory usage: 533.4+ KB\n",
      "\n",
      "Count of NA:\n",
      "cdatetime        0\n",
      "address          0\n",
      "district         0\n",
      "beat             0\n",
      "grid             0\n",
      "crimedescr       0\n",
      "ucr_ncic_code    0\n",
      "latitude         0\n",
      "longitude        0\n",
      "dtype: int64\n",
      "\n",
      "No. of duplicates: 38\n"
     ]
    }
   ],
   "source": [
    "# Check general info of the dataframe and see if there are NaN/Null values\n",
    "df.info()\n",
    "print('')\n",
    "print('Count of NA:')\n",
    "print(df.isna().sum())\n",
    "print('')\n",
    "print('No. of duplicates:',df.duplicated(keep = 'first').sum())"
   ]
  },
  {
   "cell_type": "code",
   "execution_count": 5,
   "id": "15d20053",
   "metadata": {},
   "outputs": [
    {
     "data": {
      "text/plain": [
       "0"
      ]
     },
     "execution_count": 5,
     "metadata": {},
     "output_type": "execute_result"
    }
   ],
   "source": [
    "# Remove duplicates and check\n",
    "df = df.drop_duplicates()\n",
    "df.duplicated(keep = 'first').sum()"
   ]
  },
  {
   "cell_type": "code",
   "execution_count": 6,
   "id": "21c22880",
   "metadata": {},
   "outputs": [
    {
     "name": "stdout",
     "output_type": "stream",
     "text": [
      "Month/s: January    7546\n",
      "Name: cdatetime, dtype: int64\n",
      "Year/s: 2006    7546\n",
      "Name: cdatetime, dtype: int64\n"
     ]
    }
   ],
   "source": [
    "# Check and count what months and years are in the dataframe\n",
    "month_check = pd.to_datetime(df['cdatetime']).dt.month_name()\n",
    "year_check = pd.to_datetime(df['cdatetime']).dt.year\n",
    "\n",
    "print('Month/s:', month_check.value_counts())\n",
    "print('Year/s:', year_check.value_counts())"
   ]
  },
  {
   "cell_type": "code",
   "execution_count": 7,
   "id": "30351959",
   "metadata": {},
   "outputs": [
    {
     "data": {
      "text/html": [
       "<div>\n",
       "<style scoped>\n",
       "    .dataframe tbody tr th:only-of-type {\n",
       "        vertical-align: middle;\n",
       "    }\n",
       "\n",
       "    .dataframe tbody tr th {\n",
       "        vertical-align: top;\n",
       "    }\n",
       "\n",
       "    .dataframe thead th {\n",
       "        text-align: right;\n",
       "    }\n",
       "</style>\n",
       "<table border=\"1\" class=\"dataframe\">\n",
       "  <thead>\n",
       "    <tr style=\"text-align: right;\">\n",
       "      <th></th>\n",
       "      <th>cdatetime</th>\n",
       "      <th>address</th>\n",
       "      <th>district</th>\n",
       "      <th>beat</th>\n",
       "      <th>grid</th>\n",
       "      <th>crimedescr</th>\n",
       "      <th>ucr_ncic_code</th>\n",
       "      <th>latitude</th>\n",
       "      <th>longitude</th>\n",
       "    </tr>\n",
       "  </thead>\n",
       "  <tbody>\n",
       "    <tr>\n",
       "      <th>0</th>\n",
       "      <td>1</td>\n",
       "      <td>3108 OCCIDENTAL DR</td>\n",
       "      <td>3</td>\n",
       "      <td>3C</td>\n",
       "      <td>1115</td>\n",
       "      <td>10851(A)VC TAKE VEH W/O OWNER</td>\n",
       "      <td>2404</td>\n",
       "      <td>38.550420</td>\n",
       "      <td>-121.391416</td>\n",
       "    </tr>\n",
       "    <tr>\n",
       "      <th>1</th>\n",
       "      <td>1</td>\n",
       "      <td>2082 EXPEDITION WAY</td>\n",
       "      <td>5</td>\n",
       "      <td>5A</td>\n",
       "      <td>1512</td>\n",
       "      <td>459 PC  BURGLARY RESIDENCE</td>\n",
       "      <td>2204</td>\n",
       "      <td>38.473501</td>\n",
       "      <td>-121.490186</td>\n",
       "    </tr>\n",
       "  </tbody>\n",
       "</table>\n",
       "</div>"
      ],
      "text/plain": [
       "   cdatetime              address  district        beat  grid  \\\n",
       "0          1   3108 OCCIDENTAL DR         3  3C          1115   \n",
       "1          1  2082 EXPEDITION WAY         5  5A          1512   \n",
       "\n",
       "                      crimedescr  ucr_ncic_code   latitude   longitude  \n",
       "0  10851(A)VC TAKE VEH W/O OWNER           2404  38.550420 -121.391416  \n",
       "1     459 PC  BURGLARY RESIDENCE           2204  38.473501 -121.490186  "
      ]
     },
     "execution_count": 7,
     "metadata": {},
     "output_type": "execute_result"
    }
   ],
   "source": [
    "# Convert cdatetime column values to day \n",
    "df['cdatetime'] = pd.to_datetime(df['cdatetime']).dt.day\n",
    "df.head(2)"
   ]
  },
  {
   "cell_type": "code",
   "execution_count": 8,
   "id": "6c6c89c6",
   "metadata": {},
   "outputs": [
    {
     "name": "stdout",
     "output_type": "stream",
     "text": [
      "Row Count : 2574\n"
     ]
    },
    {
     "data": {
      "text/html": [
       "<div>\n",
       "<style scoped>\n",
       "    .dataframe tbody tr th:only-of-type {\n",
       "        vertical-align: middle;\n",
       "    }\n",
       "\n",
       "    .dataframe tbody tr th {\n",
       "        vertical-align: top;\n",
       "    }\n",
       "\n",
       "    .dataframe thead th {\n",
       "        text-align: right;\n",
       "    }\n",
       "</style>\n",
       "<table border=\"1\" class=\"dataframe\">\n",
       "  <thead>\n",
       "    <tr style=\"text-align: right;\">\n",
       "      <th></th>\n",
       "      <th>cdatetime</th>\n",
       "      <th>address</th>\n",
       "      <th>district</th>\n",
       "      <th>beat</th>\n",
       "      <th>grid</th>\n",
       "      <th>crimedescr</th>\n",
       "      <th>ucr_ncic_code</th>\n",
       "      <th>latitude</th>\n",
       "      <th>longitude</th>\n",
       "    </tr>\n",
       "  </thead>\n",
       "  <tbody>\n",
       "    <tr>\n",
       "      <th>2338</th>\n",
       "      <td>11</td>\n",
       "      <td>8034 POCKET RD</td>\n",
       "      <td>4</td>\n",
       "      <td>4C</td>\n",
       "      <td>1295</td>\n",
       "      <td>459 PC  BURGLARY VEHICLE</td>\n",
       "      <td>2299</td>\n",
       "      <td>38.475045</td>\n",
       "      <td>-121.531410</td>\n",
       "    </tr>\n",
       "    <tr>\n",
       "      <th>2339</th>\n",
       "      <td>11</td>\n",
       "      <td>2800 L ST</td>\n",
       "      <td>3</td>\n",
       "      <td>3B</td>\n",
       "      <td>748</td>\n",
       "      <td>TELEPEST -I RPT</td>\n",
       "      <td>7000</td>\n",
       "      <td>38.571156</td>\n",
       "      <td>-121.469631</td>\n",
       "    </tr>\n",
       "    <tr>\n",
       "      <th>2340</th>\n",
       "      <td>11</td>\n",
       "      <td>2267 KNIGHT WAY</td>\n",
       "      <td>4</td>\n",
       "      <td>4B</td>\n",
       "      <td>976</td>\n",
       "      <td>594(B)(2)(A) VANDALISM/ -$400</td>\n",
       "      <td>2999</td>\n",
       "      <td>38.526041</td>\n",
       "      <td>-121.486374</td>\n",
       "    </tr>\n",
       "  </tbody>\n",
       "</table>\n",
       "</div>"
      ],
      "text/plain": [
       "      cdatetime          address  district        beat  grid  \\\n",
       "2338         11   8034 POCKET RD         4  4C          1295   \n",
       "2339         11        2800 L ST         3  3B           748   \n",
       "2340         11  2267 KNIGHT WAY         4  4B           976   \n",
       "\n",
       "                         crimedescr  ucr_ncic_code   latitude   longitude  \n",
       "2338       459 PC  BURGLARY VEHICLE           2299  38.475045 -121.531410  \n",
       "2339                TELEPEST -I RPT           7000  38.571156 -121.469631  \n",
       "2340  594(B)(2)(A) VANDALISM/ -$400           2999  38.526041 -121.486374  "
      ]
     },
     "execution_count": 8,
     "metadata": {},
     "output_type": "execute_result"
    }
   ],
   "source": [
    "# Filter January 11 to 20 data, and count number of rows left\n",
    "df1 = df.loc[(df['cdatetime'] >= 11) & (df['cdatetime'] <= 20 )]\n",
    "\n",
    "print('Row Count :', len(df1))\n",
    "df1.head(3)"
   ]
  },
  {
   "cell_type": "code",
   "execution_count": 9,
   "id": "0c3d6c84",
   "metadata": {},
   "outputs": [
    {
     "data": {
      "text/plain": [
       "3    571\n",
       "2    468\n",
       "6    443\n",
       "4    439\n",
       "5    368\n",
       "1    285\n",
       "Name: district, dtype: int64"
      ]
     },
     "execution_count": 9,
     "metadata": {},
     "output_type": "execute_result"
    }
   ],
   "source": [
    "# Frequency of districts\n",
    "df1.district.value_counts()"
   ]
  },
  {
   "cell_type": "code",
   "execution_count": 10,
   "id": "629b33da",
   "metadata": {},
   "outputs": [
    {
     "data": {
      "text/html": [
       "<div>\n",
       "<style scoped>\n",
       "    .dataframe tbody tr th:only-of-type {\n",
       "        vertical-align: middle;\n",
       "    }\n",
       "\n",
       "    .dataframe tbody tr th {\n",
       "        vertical-align: top;\n",
       "    }\n",
       "\n",
       "    .dataframe thead th {\n",
       "        text-align: right;\n",
       "    }\n",
       "</style>\n",
       "<table border=\"1\" class=\"dataframe\">\n",
       "  <thead>\n",
       "    <tr style=\"text-align: right;\">\n",
       "      <th></th>\n",
       "      <th>district</th>\n",
       "      <th>cdatetime</th>\n",
       "      <th>district_count</th>\n",
       "    </tr>\n",
       "  </thead>\n",
       "  <tbody>\n",
       "    <tr>\n",
       "      <th>0</th>\n",
       "      <td>1</td>\n",
       "      <td>11</td>\n",
       "      <td>25</td>\n",
       "    </tr>\n",
       "    <tr>\n",
       "      <th>1</th>\n",
       "      <td>1</td>\n",
       "      <td>12</td>\n",
       "      <td>35</td>\n",
       "    </tr>\n",
       "    <tr>\n",
       "      <th>2</th>\n",
       "      <td>1</td>\n",
       "      <td>13</td>\n",
       "      <td>34</td>\n",
       "    </tr>\n",
       "    <tr>\n",
       "      <th>3</th>\n",
       "      <td>1</td>\n",
       "      <td>14</td>\n",
       "      <td>27</td>\n",
       "    </tr>\n",
       "    <tr>\n",
       "      <th>4</th>\n",
       "      <td>1</td>\n",
       "      <td>15</td>\n",
       "      <td>24</td>\n",
       "    </tr>\n",
       "  </tbody>\n",
       "</table>\n",
       "</div>"
      ],
      "text/plain": [
       "   district  cdatetime  district_count\n",
       "0         1         11              25\n",
       "1         1         12              35\n",
       "2         1         13              34\n",
       "3         1         14              27\n",
       "4         1         15              24"
      ]
     },
     "execution_count": 10,
     "metadata": {},
     "output_type": "execute_result"
    }
   ],
   "source": [
    "# Group and aggregate the number of Crimes per Day per district to new column 'district_count'\n",
    "data = df1.groupby(['district', 'cdatetime'], as_index = False).agg(\n",
    "    district_count = pd.NamedAgg(column = 'district', aggfunc = 'count')\n",
    ")\n",
    "data.head()"
   ]
  },
  {
   "cell_type": "code",
   "execution_count": 11,
   "id": "636d1fdd",
   "metadata": {},
   "outputs": [
    {
     "data": {
      "text/plain": [
       "<seaborn.axisgrid.FacetGrid at 0x26258875af0>"
      ]
     },
     "execution_count": 11,
     "metadata": {},
     "output_type": "execute_result"
    },
    {
     "data": {
      "image/png": "[encoded data removed]",
      "text/plain": [
       "<Figure size 1296x216 with 6 Axes>"
      ]
     },
     "metadata": {
      "needs_background": "light"
     },
     "output_type": "display_data"
    }
   ],
   "source": [
    "# Scatter Plot of all Districts showing x-axis: the dates (Jan 11-20) and y-axis: the number of crimes\n",
    "\n",
    "g = sns.FacetGrid(data, col = 'district', margin_titles = True)\n",
    "g.map_dataframe(sns.scatterplot, 'cdatetime', 'district_count')"
   ]
  },
  {
   "cell_type": "markdown",
   "id": "e12ad745",
   "metadata": {},
   "source": [
    "# In case we want to see per District"
   ]
  },
  {
   "cell_type": "code",
   "execution_count": 12,
   "id": "3144e6a7",
   "metadata": {},
   "outputs": [
    {
     "data": {
      "text/plain": [
       "[Text(0.5, 1.0, 'District 1: Number of Crimes per Day (Jan 11-20)')]"
      ]
     },
     "execution_count": 12,
     "metadata": {},
     "output_type": "execute_result"
    },
    {
     "data": {
      "image/png": "[encoded data removed]",
      "text/plain": [
       "<Figure size 432x288 with 1 Axes>"
      ]
     },
     "metadata": {
      "needs_background": "light"
     },
     "output_type": "display_data"
    }
   ],
   "source": [
    "# District 1 Scatter Plot\n",
    "dist1 = data.loc[data['district'] == 1]\n",
    "sns.scatterplot(data = dist1, x = 'cdatetime', y ='district_count').set(\n",
    "    title = 'District 1: Number of Crimes per Day (Jan 11-20)'\n",
    ")"
   ]
  },
  {
   "cell_type": "code",
   "execution_count": 13,
   "id": "fb5e686c",
   "metadata": {},
   "outputs": [
    {
     "data": {
      "text/plain": [
       "[Text(0.5, 1.0, 'District 2: Number of Crimes per Day (Jan 11-20)')]"
      ]
     },
     "execution_count": 13,
     "metadata": {},
     "output_type": "execute_result"
    },
    {
     "data": {
      "image/png": "[encoded data removed]",
      "text/plain": [
       "<Figure size 432x288 with 1 Axes>"
      ]
     },
     "metadata": {
      "needs_background": "light"
     },
     "output_type": "display_data"
    }
   ],
   "source": [
    "# District 2 Scatter Plot\n",
    "dist2 = data.loc[data['district'] == 2]\n",
    "sns.scatterplot(data = dist2, x = 'cdatetime', y ='district_count').set(\n",
    "    title = 'District 2: Number of Crimes per Day (Jan 11-20)'\n",
    ")"
   ]
  },
  {
   "cell_type": "code",
   "execution_count": 14,
   "id": "b374f058",
   "metadata": {},
   "outputs": [
    {
     "data": {
      "text/plain": [
       "[Text(0.5, 1.0, 'District 3: Number of Crimes per Day (Jan 11-20)')]"
      ]
     },
     "execution_count": 14,
     "metadata": {},
     "output_type": "execute_result"
    },
    {
     "data": {
      "image/png": "[encoded data removed]",
      "text/plain": [
       "<Figure size 432x288 with 1 Axes>"
      ]
     },
     "metadata": {
      "needs_background": "light"
     },
     "output_type": "display_data"
    }
   ],
   "source": [
    "# District 3 Scatter Plot\n",
    "dist3 = data.loc[data['district'] == 3]\n",
    "sns.scatterplot(data = dist3, x = 'cdatetime', y ='district_count').set(\n",
    "    title = 'District 3: Number of Crimes per Day (Jan 11-20)'\n",
    ")"
   ]
  },
  {
   "cell_type": "code",
   "execution_count": 15,
   "id": "d0b6f6cd",
   "metadata": {},
   "outputs": [
    {
     "data": {
      "text/plain": [
       "[Text(0.5, 1.0, 'District 4: Number of Crimes per Day (Jan 11-20)')]"
      ]
     },
     "execution_count": 15,
     "metadata": {},
     "output_type": "execute_result"
    },
    {
     "data": {
      "image/png": "[encoded data removed]",
      "text/plain": [
       "<Figure size 432x288 with 1 Axes>"
      ]
     },
     "metadata": {
      "needs_background": "light"
     },
     "output_type": "display_data"
    }
   ],
   "source": [
    "# District 4 Scatter Plot\n",
    "dist4 = data.loc[data['district'] == 4]\n",
    "sns.scatterplot(data = dist4, x = 'cdatetime', y ='district_count').set(\n",
    "    title = 'District 4: Number of Crimes per Day (Jan 11-20)'\n",
    ")"
   ]
  },
  {
   "cell_type": "code",
   "execution_count": 16,
   "id": "37969d7d",
   "metadata": {},
   "outputs": [
    {
     "data": {
      "text/plain": [
       "[Text(0.5, 1.0, 'District 5: Number of Crimes per Day (Jan 11-20)')]"
      ]
     },
     "execution_count": 16,
     "metadata": {},
     "output_type": "execute_result"
    },
    {
     "data": {
      "image/png": "[encoded data removed]",
      "text/plain": [
       "<Figure size 432x288 with 1 Axes>"
      ]
     },
     "metadata": {
      "needs_background": "light"
     },
     "output_type": "display_data"
    }
   ],
   "source": [
    "# District 5 Scatter Plot\n",
    "dist5 = data.loc[data['district'] == 5]\n",
    "sns.scatterplot(data = dist5, x = 'cdatetime', y ='district_count').set(\n",
    "    title = 'District 5: Number of Crimes per Day (Jan 11-20)'\n",
    ")"
   ]
  },
  {
   "cell_type": "code",
   "execution_count": 17,
   "id": "67031e5d",
   "metadata": {},
   "outputs": [
    {
     "data": {
      "text/plain": [
       "[Text(0.5, 1.0, 'District 6: Number of Crimes per Day (Jan 11-20)')]"
      ]
     },
     "execution_count": 17,
     "metadata": {},
     "output_type": "execute_result"
    },
    {
     "data": {
      "image/png": "[encoded data removed]",
      "text/plain": [
       "<Figure size 432x288 with 1 Axes>"
      ]
     },
     "metadata": {
      "needs_background": "light"
     },
     "output_type": "display_data"
    }
   ],
   "source": [
    "# District 6 Scatter Plot\n",
    "dist6 = data.loc[data['district'] == 6]\n",
    "sns.scatterplot(data = dist6, x = 'cdatetime', y ='district_count').set(\n",
    "    title = 'District 6: Number of Crimes per Day (Jan 11-20)'\n",
    ")"
   ]
  }
 ],
 "metadata": {
  "kernelspec": {
   "display_name": "Python 3 (ipykernel)",
   "language": "python",
   "name": "python3"
  },
  "language_info": {
   "codemirror_mode": {
    "name": "ipython",
    "version": 3
   },
   "file_extension": ".py",
   "mimetype": "text/x-python",
   "name": "python",
   "nbconvert_exporter": "python",
   "pygments_lexer": "ipython3",
   "version": "3.8.12"
  }
 },
 "nbformat": 4,
 "nbformat_minor": 5
}
