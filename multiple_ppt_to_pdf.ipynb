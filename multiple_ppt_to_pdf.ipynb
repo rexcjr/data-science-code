{
 "cells": [
  {
   "cell_type": "markdown",
   "id": "3e7f5086",
   "metadata": {},
   "source": [
    "## Multiple PPT to PDF workaround V1.0\n",
    "#### This is a workaround since we cannot run .py in our laptops."
   ]
  },
  {
   "cell_type": "markdown",
   "id": "c9d69a7d",
   "metadata": {},
   "source": [
    "#### How to use:\n",
    "1. Copy this .ipynb file to folder where all the ppt files are.\n",
    "2. Run the code using jupyter notebook."
   ]
  },
  {
   "cell_type": "code",
   "execution_count": null,
   "id": "b33dfaf0",
   "metadata": {},
   "outputs": [],
   "source": [
    "import comtypes.client\n",
    "import os\n",
    "\n",
    "# current folder and list of files\n",
    "cur_folder = os.getcwd()    \n",
    "print('Folder Path:', cur_folder)\n",
    "folder_files = os.listdir(cur_folder)\n",
    "\n",
    "# converter function\n",
    "def convert_ppt_to_pdf(input_file, output_file, format_type = 32):\n",
    "    powerpoint = comtypes.client.CreateObject('Powerpoint.Application')\n",
    "    powerpoint.Visible = 1\n",
    "\n",
    "    if output_file[-3:] != 'pdf':\n",
    "        output_file = output_file.split('.')[0] + '.pdf'\n",
    "    deck = powerpoint.Presentations.Open(cur_folder + '\\\\' + input_file)\n",
    "    deck.SaveAs(cur_folder + '\\\\' + output_file, format_type) # formatType = 32 for ppt to pdf\n",
    "    deck.Close()\n",
    "    powerpoint.Quit()\n",
    "\n",
    "# iterate through each file and convert all ppt files in folder\n",
    "count_ppt = 0\n",
    "count_pdf = 0\n",
    "ppt_types = ['pptx', 'pptm', '.ppt']\n",
    "for file in folder_files:\n",
    "    if file[-4:] in ppt_types : \n",
    "        count_ppt += 1\n",
    "        convert_ppt_to_pdf(file, file)\n",
    "        \n",
    "        count_pdf += 1\n",
    "    else : continue\n",
    "        \n",
    "print(\"Current Folder contains {} file(s).\".format(len(folder_files) - 1) )    \n",
    "print('Total PPT File(s):', count_ppt )\n",
    "print('Total Converted to PDF:', count_pdf )"
   ]
  }
 ],
 "metadata": {
  "kernelspec": {
   "display_name": "Python 3 (ipykernel)",
   "language": "python",
   "name": "python3"
  },
  "language_info": {
   "codemirror_mode": {
    "name": "ipython",
    "version": 3
   },
   "file_extension": ".py",
   "mimetype": "text/x-python",
   "name": "python",
   "nbconvert_exporter": "python",
   "pygments_lexer": "ipython3",
   "version": "3.8.12"
  }
 },
 "nbformat": 4,
 "nbformat_minor": 5
}
